{
 "cells": [
  {
   "cell_type": "code",
   "execution_count": 1,
   "metadata": {},
   "outputs": [],
   "source": [
    "import numpy as np \n",
    "import pandas as pd\n",
    "from sklearn.base import BaseEstimator, TransformerMixin\n",
    "from sklearn.pipeline import FeatureUnion, Pipeline \n",
    "from sklearn.preprocessing import PowerTransformer"
   ]
  },
  {
   "cell_type": "code",
   "execution_count": 2,
   "metadata": {},
   "outputs": [],
   "source": [
    "import warnings\n",
    "from scipy.stats import skew, norm\n",
    "from scipy.special import boxcox1p\n",
    "from scipy.stats import boxcox_normmax\n",
    "warnings.filterwarnings('ignore')"
   ]
  },
  {
   "cell_type": "code",
   "execution_count": 3,
   "metadata": {},
   "outputs": [],
   "source": [
    "from sklearn.linear_model import LinearRegression\n",
    "from sklearn.model_selection import train_test_split\n",
    "from sklearn.linear_model import LinearRegression, Ridge, Lasso\n",
    "from sklearn.neighbors import KNeighborsRegressor\n",
    "from sklearn.svm import SVR\n",
    "from sklearn import metrics\n",
    "from sklearn.ensemble import RandomForestRegressor, GradientBoostingRegressor\n",
    "from sklearn.preprocessing import MinMaxScaler"
   ]
  },
  {
   "cell_type": "code",
   "execution_count": 4,
   "metadata": {},
   "outputs": [],
   "source": [
    "class DataPreprocessing(BaseEstimator, TransformerMixin ):      \n",
    "    \n",
    "    def handle_missing(self, features):\n",
    "        \n",
    "        features['Functional'] = features['Functional'].fillna('Typ')\n",
    "        features['Electrical'] = features['Electrical'].fillna(\"SBrkr\")\n",
    "        features['KitchenQual'] = features['KitchenQual'].fillna(\"TA\")\n",
    "        features['Exterior1st'] = features['Exterior1st'].fillna(features['Exterior1st'].mode()[0])\n",
    "        features['Exterior2nd'] = features['Exterior2nd'].fillna(features['Exterior2nd'].mode()[0])\n",
    "        features['SaleType'] = features['SaleType'].fillna(features['SaleType'].mode()[0])\n",
    "        features['MSZoning'] = features.groupby('MSSubClass')['MSZoning'].transform(lambda x: x.fillna(x.mode()[0]))\n",
    "\n",
    "        features[\"PoolQC\"] = features[\"PoolQC\"].fillna(\"None\")\n",
    "        for col in ('GarageYrBlt', 'GarageArea', 'GarageCars'):\n",
    "            features[col] = features[col].fillna(0)\n",
    "        for col in ['GarageType', 'GarageFinish', 'GarageQual', 'GarageCond']:\n",
    "            features[col] = features[col].fillna('None')\n",
    "        for col in ('BsmtQual', 'BsmtCond', 'BsmtExposure', 'BsmtFinType1', 'BsmtFinType2'):\n",
    "            features[col] = features[col].fillna('None')\n",
    "\n",
    "        features['LotFrontage'] = features.groupby('Neighborhood')['LotFrontage'].transform(lambda x: x.fillna(x.median()))\n",
    "        objects = []\n",
    "        for i in features.columns:\n",
    "            if features[i].dtype == object:\n",
    "                objects.append(i)\n",
    "        features.update(features[objects].fillna('None'))\n",
    "\n",
    "        numeric_dtypes = ['int16', 'int32', 'int64', 'float16', 'float32', 'float64']\n",
    "        numeric = []\n",
    "        for i in features.columns:\n",
    "            if features[i].dtype in numeric_dtypes:\n",
    "                numeric.append(i)\n",
    "        features.update(features[numeric].fillna(0))    \n",
    "        return features\n",
    "    \n",
    "    def fit( self, X, y= None):\n",
    "        return self\n",
    "    \n",
    "    def transform ( self, X, y= None):\n",
    "        return self\n",
    "    \n",
    "    def fit_transform(self, train, test):\n",
    "        \n",
    "        train.drop(train[(train['OverallQual']<5) & (train['SalePrice']>200000)].index, inplace=True)\n",
    "        train.drop(train[(train['GrLivArea']>4500) & (train['SalePrice']<300000)].index, inplace=True)\n",
    "        train.reset_index(drop=True, inplace=True)\n",
    "        \n",
    "        train['SalePrice'] = np.log1p(train['SalePrice'])\n",
    "        \n",
    "        train_labels = train['SalePrice'].reset_index(drop=True)\n",
    "        train_features = train.drop(['SalePrice'], axis=1)\n",
    "        test_features = test\n",
    "\n",
    "        # Объединяем тестовую и тренировочную выборку\n",
    "        all_features = pd.concat([train_features, test_features]).reset_index(drop=True)\n",
    "        \n",
    "        all_features['MSSubClass'] = all_features['MSSubClass'].apply(str)\n",
    "        all_features['YrSold'] = all_features['YrSold'].astype(str)\n",
    "        all_features['MoSold'] = all_features['MoSold'].astype(str)\n",
    "        all_features['YearRemodAdd'] = all_features['YearRemodAdd'].astype(str)\n",
    "        all_features['YearBuilt'] = all_features['YearBuilt'].astype(str)\n",
    "        \n",
    "        all_features = self.handle_missing(all_features)\n",
    "        \n",
    "        numeric_dtypes = ['int16', 'int32', 'int64', 'float16', 'float32', 'float64']\n",
    "        numeric = []\n",
    "        for i in all_features.columns:\n",
    "            if all_features[i].dtype in numeric_dtypes:\n",
    "                numeric.append(i)\n",
    "                \n",
    "        skew_features = all_features[numeric].apply(lambda x: skew(x)).sort_values(ascending=False)\n",
    "\n",
    "        high_skew = skew_features[skew_features > 0.5]\n",
    "        skew_index = high_skew.index\n",
    "        skewness = pd.DataFrame({'Skew' :high_skew})\n",
    "        \n",
    "        for i in skew_index:\n",
    "            all_features[i] = boxcox1p(all_features[i], boxcox_normmax(all_features[i] + 1))\n",
    "        \n",
    "        for col in all_features.columns[all_features.dtypes != 'O']:\n",
    "            all_features[col] = MinMaxScaler().fit_transform(all_features[col].values.reshape(-1,1))\n",
    "        \n",
    "        all_features['MSSubClass'] = all_features['MSSubClass'].apply(float)\n",
    "        all_features['YrSold'] = all_features['YrSold'].astype(float)\n",
    "        all_features['MoSold'] = all_features['MoSold'].astype(float)\n",
    "        all_features['YearRemodAdd'] = all_features['YearRemodAdd'].astype(float)\n",
    "        all_features['YearBuilt'] = all_features['YearBuilt'].astype(float)\n",
    "        \n",
    "        all_features = pd.get_dummies(all_features).reset_index(drop=True)\n",
    "        X = all_features.iloc[:len(train_labels), :]\n",
    "        XX = all_features.iloc[len(train_labels):, :]\n",
    "        \n",
    "        X_train, X_test, y_train, y_test = train_test_split(X,train_labels, test_size=0.33, random_state=42)\n",
    "        \n",
    "        return X_train, X_test, y_train, y_test, XX"
   ]
  },
  {
   "cell_type": "code",
   "execution_count": 5,
   "metadata": {},
   "outputs": [],
   "source": [
    "train = pd.read_csv('train.csv').drop('Id',axis = 1 )\n",
    "test = pd.read_csv('test.csv').drop('Id',axis = 1 )"
   ]
  },
  {
   "cell_type": "code",
   "execution_count": 6,
   "metadata": {},
   "outputs": [],
   "source": [
    "full_pipeline = Pipeline(steps = [('Data_Preprocessing', DataPreprocessing())])"
   ]
  },
  {
   "cell_type": "code",
   "execution_count": 7,
   "metadata": {},
   "outputs": [],
   "source": [
    "X_train, X_test, y_train, y_test, XX = DataPreprocessing().fit_transform(train,test)"
   ]
  },
  {
   "cell_type": "code",
   "execution_count": 8,
   "metadata": {},
   "outputs": [
    {
     "name": "stdout",
     "output_type": "stream",
     "text": [
      "MAE: 0.10239943049918261\n",
      "MSE: 0.0810466783032851\n",
      "RMSE: 0.28468698302396106\n",
      "R2 score: 0.45662866161999716\n"
     ]
    }
   ],
   "source": [
    "LR = LinearRegression()\n",
    "LR.fit(X_train,y_train)\n",
    "y_pred = LR.predict(X_test)\n",
    "print(f'MAE: {metrics.mean_absolute_error(y_test,y_pred)}')\n",
    "print(f'MSE: {metrics.mean_squared_error(y_test,y_pred)}')\n",
    "print(f'RMSE: {np.sqrt(metrics.mean_squared_error(y_test,y_pred))}')\n",
    "print(f'R2 score: {metrics.r2_score(y_test,y_pred)}')"
   ]
  },
  {
   "cell_type": "code",
   "execution_count": 9,
   "metadata": {},
   "outputs": [
    {
     "name": "stdout",
     "output_type": "stream",
     "text": [
      "MAE: 0.09348061641198473\n",
      "MSE: 0.019344234540625744\n",
      "RMSE: 0.1390835523727581\n",
      "R2 0.8703080393629107\n"
     ]
    }
   ],
   "source": [
    "RF = RandomForestRegressor(n_estimators=100)\n",
    "RF.fit(X_train, y_train)\n",
    "y_pred = RF.predict(X_test)\n",
    "print(\"MAE:\", metrics.mean_absolute_error(y_test, y_pred))\n",
    "print('MSE:', metrics.mean_squared_error(y_test, y_pred))\n",
    "print('RMSE:', np.sqrt(metrics.mean_squared_error(y_test, y_pred)))\n",
    "print('R2',RF.score(X_test,y_test))"
   ]
  },
  {
   "cell_type": "code",
   "execution_count": 10,
   "metadata": {},
   "outputs": [],
   "source": [
    "from sklearn.linear_model import Lasso\n",
    "from sklearn.feature_selection import SelectFromModel\n",
    "\n",
    "feature_sel_model = SelectFromModel(Lasso(alpha=0.005, random_state=0)) \n",
    "feature_sel_model.fit(X_train, y_train)\n",
    "selected_feat = X_train.columns[(feature_sel_model.get_support())]\n",
    "X_train_lasso = X_train[selected_feat].reset_index(drop=True)\n",
    "X_test_lasso =X_test[selected_feat]\n"
   ]
  },
  {
   "cell_type": "code",
   "execution_count": 11,
   "metadata": {},
   "outputs": [
    {
     "name": "stdout",
     "output_type": "stream",
     "text": [
      "MAE: 0.09563063201455059\n",
      "MSE: 0.01872941158972384\n",
      "RMSE: 0.13685544048273654\n",
      "R2 0.8744300734387325\n"
     ]
    }
   ],
   "source": [
    "LassoLR = LinearRegression().fit(X_train_lasso,y_train)\n",
    "y_pred_lasso = LassoLR.predict(X_test_lasso)\n",
    "print(\"MAE:\", metrics.mean_absolute_error(y_test, y_pred_lasso))\n",
    "print('MSE:', metrics.mean_squared_error(y_test, y_pred_lasso))\n",
    "print('RMSE:', np.sqrt(metrics.mean_squared_error(y_test, y_pred_lasso)))\n",
    "print('R2',LassoLR.score(X_test_lasso,y_test))\n"
   ]
  },
  {
   "cell_type": "code",
   "execution_count": null,
   "metadata": {},
   "outputs": [],
   "source": []
  }
 ],
 "metadata": {
  "kernelspec": {
   "display_name": "Python 3",
   "language": "python",
   "name": "python3"
  },
  "language_info": {
   "codemirror_mode": {
    "name": "ipython",
    "version": 3
   },
   "file_extension": ".py",
   "mimetype": "text/x-python",
   "name": "python",
   "nbconvert_exporter": "python",
   "pygments_lexer": "ipython3",
   "version": "3.7.3"
  }
 },
 "nbformat": 4,
 "nbformat_minor": 2
}
