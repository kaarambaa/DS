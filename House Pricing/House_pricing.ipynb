{
 "cells": [
  {
   "cell_type": "code",
   "execution_count": 1,
   "metadata": {},
   "outputs": [],
   "source": [
    "import numpy as np \n",
    "import pandas as pd\n",
    "from sklearn.base import BaseEstimator, TransformerMixin\n",
    "from sklearn.pipeline import Pipeline \n",
    "from sklearn.preprocessing import PowerTransformer, LabelEncoder"
   ]
  },
  {
   "cell_type": "code",
   "execution_count": 2,
   "metadata": {},
   "outputs": [],
   "source": [
    "import warnings\n",
    "from scipy.stats import skew, norm\n",
    "from scipy.special import boxcox1p\n",
    "from scipy.stats import boxcox_normmax\n",
    "warnings.filterwarnings('ignore')"
   ]
  },
  {
   "cell_type": "code",
   "execution_count": 3,
   "metadata": {},
   "outputs": [],
   "source": [
    "from sklearn.linear_model import LinearRegression\n",
    "from sklearn.model_selection import train_test_split\n",
    "from sklearn.linear_model import LinearRegression, Ridge, Lasso\n",
    "from sklearn.neighbors import KNeighborsRegressor\n",
    "from sklearn.svm import SVR\n",
    "from sklearn import metrics\n",
    "from sklearn.ensemble import RandomForestRegressor, GradientBoostingRegressor\n",
    "from sklearn.preprocessing import MinMaxScaler"
   ]
  },
  {
   "cell_type": "code",
   "execution_count": 4,
   "metadata": {},
   "outputs": [],
   "source": [
    "class DataPreprocessing(BaseEstimator, TransformerMixin ):   \n",
    "    \n",
    "    def __init__( self, encoder_type ): \n",
    "        \n",
    "        self._encoder_type = encoder_type\n",
    "    \n",
    "    def handle_missing(self, features):\n",
    "        \n",
    "        features['Functional'] = features['Functional'].fillna('Typ')\n",
    "        features['Electrical'] = features['Electrical'].fillna(\"SBrkr\")\n",
    "        features['KitchenQual'] = features['KitchenQual'].fillna(\"TA\")\n",
    "        features['Exterior1st'] = features['Exterior1st'].fillna(features['Exterior1st'].mode()[0])\n",
    "        features['Exterior2nd'] = features['Exterior2nd'].fillna(features['Exterior2nd'].mode()[0])\n",
    "        features['SaleType'] = features['SaleType'].fillna(features['SaleType'].mode()[0])\n",
    "        features['MSZoning'] = features.groupby('MSSubClass')['MSZoning'].transform(lambda x: x.fillna(x.mode()[0]))\n",
    "\n",
    "        features[\"PoolQC\"] = features[\"PoolQC\"].fillna(\"None\")\n",
    "        for col in ('GarageYrBlt', 'GarageArea', 'GarageCars'):\n",
    "            features[col] = features[col].fillna(0)\n",
    "        for col in ['GarageType', 'GarageFinish', 'GarageQual', 'GarageCond']:\n",
    "            features[col] = features[col].fillna('None')\n",
    "        for col in ('BsmtQual', 'BsmtCond', 'BsmtExposure', 'BsmtFinType1', 'BsmtFinType2'):\n",
    "            features[col] = features[col].fillna('None')\n",
    "\n",
    "        features['LotFrontage'] = features.groupby('Neighborhood')['LotFrontage'].transform(lambda x: x.fillna(x.median()))\n",
    "        objects = []\n",
    "        for i in features.columns:\n",
    "            if features[i].dtype == object:\n",
    "                objects.append(i)\n",
    "        features.update(features[objects].fillna('None'))\n",
    "\n",
    "        numeric_dtypes = ['int16', 'int32', 'int64', 'float16', 'float32', 'float64']\n",
    "        numeric = []\n",
    "        for i in features.columns:\n",
    "            if features[i].dtype in numeric_dtypes:\n",
    "                numeric.append(i)\n",
    "        features.update(features[numeric].fillna(0))    \n",
    "        return features\n",
    "    \n",
    "    def fit( self, X, y= None):\n",
    "        return self\n",
    "    \n",
    "    def transform ( self, X, y= None):\n",
    "        return self\n",
    "    \n",
    "    def fit_transform(self, train, test):\n",
    "        \n",
    "        train.drop(train[(train['OverallQual']<5) & (train['SalePrice']>200000)].index, inplace=True)\n",
    "        train.drop(train[(train['GrLivArea']>4500) & (train['SalePrice']<300000)].index, inplace=True)\n",
    "        train.reset_index(drop=True, inplace=True)\n",
    "        \n",
    "        train['SalePrice'] = np.log1p(train['SalePrice'])\n",
    "        \n",
    "        train_labels = train['SalePrice'].reset_index(drop=True)\n",
    "        train_features = train.drop(['SalePrice'], axis=1)\n",
    "        test_features = test\n",
    "\n",
    "        # Объединяем тестовую и тренировочную выборку\n",
    "        all_features = pd.concat([train_features, test_features]).reset_index(drop=True)\n",
    "        \n",
    "        all_features['MSSubClass'] = all_features['MSSubClass'].apply(str)\n",
    "        all_features['YrSold'] = all_features['YrSold'].astype(str)\n",
    "        all_features['MoSold'] = all_features['MoSold'].astype(str)\n",
    "        all_features['YearRemodAdd'] = all_features['YearRemodAdd'].astype(str)\n",
    "        all_features['YearBuilt'] = all_features['YearBuilt'].astype(str)\n",
    "        \n",
    "        all_features = self.handle_missing(all_features)\n",
    "        \n",
    "        numeric_dtypes = ['int16', 'int32', 'int64', 'float16', 'float32', 'float64']\n",
    "        numeric = []\n",
    "        for i in all_features.columns:\n",
    "            if all_features[i].dtype in numeric_dtypes:\n",
    "                numeric.append(i)\n",
    "                \n",
    "        skew_features = all_features[numeric].apply(lambda x: skew(x)).sort_values(ascending=False)\n",
    "\n",
    "        high_skew = skew_features[skew_features > 0.5]\n",
    "        skew_index = high_skew.index\n",
    "        skewness = pd.DataFrame({'Skew' :high_skew})\n",
    "        \n",
    "        for i in skew_index:\n",
    "            all_features[i] = boxcox1p(all_features[i], boxcox_normmax(all_features[i] + 1))\n",
    "        \n",
    "        for col in all_features.columns[all_features.dtypes != 'O']:\n",
    "            all_features[col] = MinMaxScaler().fit_transform(all_features[col].values.reshape(-1,1))\n",
    "        \n",
    "        all_features['MSSubClass'] = all_features['MSSubClass'].apply(float)\n",
    "        all_features['YrSold'] = all_features['YrSold'].astype(float)\n",
    "        all_features['MoSold'] = all_features['MoSold'].astype(float)\n",
    "        all_features['YearRemodAdd'] = all_features['YearRemodAdd'].astype(float)\n",
    "        all_features['YearBuilt'] = all_features['YearBuilt'].astype(float)\n",
    "        \n",
    "        if self._encoder_type == 'dummy':\n",
    "            all_features = pd.get_dummies(all_features).reset_index(drop=True)\n",
    "        else:\n",
    "            categorical = []\n",
    "            for col in all_features.columns:\n",
    "                if all_features[col].dtype=='object':\n",
    "                    categorical.append(col)\n",
    "\n",
    "            le = LabelEncoder()\n",
    "            for x in categorical:\n",
    "                all_features[x] = le.fit_transform(all_features[x])\n",
    "                \n",
    "        X = all_features.iloc[:len(train_labels), :]\n",
    "        XX = all_features.iloc[len(train_labels):, :]\n",
    "        \n",
    "        X_train, X_test, y_train, y_test = train_test_split(X,train_labels, test_size=0.33, random_state=42)\n",
    "        \n",
    "        return X_train, X_test, y_train, y_test, XX"
   ]
  },
  {
   "cell_type": "code",
   "execution_count": 5,
   "metadata": {},
   "outputs": [],
   "source": [
    "train = pd.read_csv('train.csv').drop('Id',axis = 1 )\n",
    "test = pd.read_csv('test.csv').drop('Id',axis = 1 )"
   ]
  },
  {
   "cell_type": "code",
   "execution_count": 6,
   "metadata": {},
   "outputs": [],
   "source": [
    "full_pipeline_dummy = Pipeline(steps = [('Data_Preprocessing', DataPreprocessing('dummy'))])\n",
    "full_pipeline_LE = Pipeline(steps = [('Data_Preprocessing', DataPreprocessing('LE'))])"
   ]
  },
  {
   "cell_type": "code",
   "execution_count": 7,
   "metadata": {},
   "outputs": [],
   "source": [
    "X_train, X_test, y_train, y_test, Kaggle_X_test = full_pipeline_dummy.fit_transform(train,test)\n",
    "X_train_l, X_test_l, y_train_l, y_test_l, Kaggle_X_test_l = full_pipeline_dummy.fit_transform(train,test)"
   ]
  },
  {
   "cell_type": "code",
   "execution_count": 8,
   "metadata": {},
   "outputs": [
    {
     "name": "stdout",
     "output_type": "stream",
     "text": [
      "MAE: Dummy: 0.10239942968652947, Label Encoder: 0.007821042023419888\n",
      "MSE: Dummy: 0.08104667016454403,  Label Encoder: 0.000402033305511057\n",
      "RMSE: Dummy: 0.28468696872976823, Label Encoder: 0.000402033305511057\n",
      "R2 score: Dummy: 0.4566287161855723, Label Encoder: 0.5456116786590393\n"
     ]
    }
   ],
   "source": [
    "LR = LinearRegression()\n",
    "LR_l = LinearRegression()\n",
    "LR.fit(X_train,y_train)\n",
    "LR_l.fit(X_train_l, y_train_l)\n",
    "y_pred = LR.predict(X_test)\n",
    "y_pred_l = LR_l.predict(X_test_l)\n",
    "print(f'MAE: Dummy: {metrics.mean_absolute_error(y_test,y_pred)}, Label Encoder: {metrics.mean_absolute_error(y_test_l,y_pred_l)}')\n",
    "print(f'MSE: Dummy: {metrics.mean_squared_error(y_test,y_pred)},  Label Encoder: {metrics.mean_squared_error(y_test_l,y_pred_l)}')\n",
    "print(f'RMSE: Dummy: {np.sqrt(metrics.mean_squared_error(y_test,y_pred))}, Label Encoder: {metrics.mean_squared_error(y_test_l,y_pred_l)}')\n",
    "print(f'R2 score: Dummy: {metrics.r2_score(y_test,y_pred)}, Label Encoder: {metrics.r2_score(y_test_l,y_pred_l)}')"
   ]
  },
  {
   "cell_type": "code",
   "execution_count": 9,
   "metadata": {},
   "outputs": [
    {
     "name": "stdout",
     "output_type": "stream",
     "text": [
      "MAE: Dummy: 0.09279277975661594, Label Encoder: 0.0073676960135850905\n",
      "MSE: Dummy: 0.01926152477131421,  Label Encoder: 0.00012382324760692667\n",
      "RMSE: Dummy: 0.13878589543362901, Label Encoder: 0.00012382324760692667\n",
      "R2 score: Dummy: 0.870862560769448, Label Encoder: 0.8600517995602975\n"
     ]
    }
   ],
   "source": [
    "RF = RandomForestRegressor(n_estimators=100)\n",
    "RF_l = RandomForestRegressor(n_estimators=100)\n",
    "RF.fit(X_train, y_train)\n",
    "RF_l.fit(X_train_l, y_train_l)\n",
    "y_pred = RF.predict(X_test)\n",
    "y_pred_l = RF_l.predict(X_test_l)\n",
    "print(f'MAE: Dummy: {metrics.mean_absolute_error(y_test,y_pred)}, Label Encoder: {metrics.mean_absolute_error(y_test_l,y_pred_l)}')\n",
    "print(f'MSE: Dummy: {metrics.mean_squared_error(y_test,y_pred)},  Label Encoder: {metrics.mean_squared_error(y_test_l,y_pred_l)}')\n",
    "print(f'RMSE: Dummy: {np.sqrt(metrics.mean_squared_error(y_test,y_pred))}, Label Encoder: {metrics.mean_squared_error(y_test_l,y_pred_l)}')\n",
    "print(f'R2 score: Dummy: {metrics.r2_score(y_test,y_pred)}, Label Encoder: {metrics.r2_score(y_test_l,y_pred_l)}')"
   ]
  },
  {
   "cell_type": "code",
   "execution_count": 10,
   "metadata": {},
   "outputs": [],
   "source": [
    "from sklearn.linear_model import Lasso\n",
    "from sklearn.feature_selection import SelectFromModel\n",
    "\n",
    "feature_sel_model = SelectFromModel(Lasso(alpha=0.005, random_state=0)) \n",
    "feature_sel_model.fit(X_train, y_train)\n",
    "selected_feat = X_train.columns[(feature_sel_model.get_support())]\n",
    "X_train_lasso = X_train[selected_feat].reset_index(drop=True)\n",
    "X_test_lasso =X_test[selected_feat]\n"
   ]
  },
  {
   "cell_type": "code",
   "execution_count": 11,
   "metadata": {},
   "outputs": [
    {
     "name": "stdout",
     "output_type": "stream",
     "text": [
      "MAE: 0.09563063195847692\n",
      "MSE: 0.01872941157935132\n",
      "RMSE: 0.13685544044484063\n",
      "R2 0.8744300735082743\n"
     ]
    }
   ],
   "source": [
    "LassoLR = LinearRegression().fit(X_train_lasso,y_train)\n",
    "y_pred_lasso = LassoLR.predict(X_test_lasso)\n",
    "print(\"MAE:\", metrics.mean_absolute_error(y_test, y_pred_lasso))\n",
    "print('MSE:', metrics.mean_squared_error(y_test, y_pred_lasso))\n",
    "print('RMSE:', np.sqrt(metrics.mean_squared_error(y_test, y_pred_lasso)))\n",
    "print('R2',LassoLR.score(X_test_lasso,y_test))\n"
   ]
  },
  {
   "cell_type": "code",
   "execution_count": 12,
   "metadata": {},
   "outputs": [
    {
     "name": "stdout",
     "output_type": "stream",
     "text": [
      "MAE: 0.10573710274718146\n",
      "MSE: 0.02345792806783773\n",
      "RMSE: 0.15315981218269278\n",
      "R2 0.8744300735082743\n"
     ]
    }
   ],
   "source": [
    "LassoRF = RandomForestRegressor().fit(X_train_lasso,y_train)\n",
    "y_pred_lasso = LassoRF.predict(X_test_lasso)\n",
    "print(\"MAE:\", metrics.mean_absolute_error(y_test, y_pred_lasso))\n",
    "print('MSE:', metrics.mean_squared_error(y_test, y_pred_lasso))\n",
    "print('RMSE:', np.sqrt(metrics.mean_squared_error(y_test, y_pred_lasso)))\n",
    "print('R2',LassoLR.score(X_test_lasso,y_test))\n"
   ]
  },
  {
   "cell_type": "code",
   "execution_count": 13,
   "metadata": {},
   "outputs": [],
   "source": [
    "from sklearn.ensemble import BaggingRegressor\n",
    "from sklearn.datasets import make_regression"
   ]
  },
  {
   "cell_type": "code",
   "execution_count": 14,
   "metadata": {},
   "outputs": [],
   "source": [
    "regr = BaggingRegressor(base_estimator=RandomForestRegressor(), n_estimators=100,\n",
    "                        random_state=0).fit(X_train,y_train)\n",
    "y_pred_bagg = regr.predict(X_test)"
   ]
  },
  {
   "cell_type": "code",
   "execution_count": 15,
   "metadata": {},
   "outputs": [
    {
     "name": "stdout",
     "output_type": "stream",
     "text": [
      "MAE: 0.09319732338125553\n",
      "MSE: 0.01950693090022022\n",
      "RMSE: 0.13966721483662592\n",
      "R2 0.8692172538981248\n"
     ]
    }
   ],
   "source": [
    "print(\"MAE:\", metrics.mean_absolute_error(y_test, y_pred_bagg))\n",
    "print('MSE:', metrics.mean_squared_error(y_test, y_pred_bagg))\n",
    "print('RMSE:', np.sqrt(metrics.mean_squared_error(y_test, y_pred_bagg)))\n",
    "print('R2',regr.score(X_test,y_test))"
   ]
  },
  {
   "cell_type": "code",
   "execution_count": 16,
   "metadata": {},
   "outputs": [],
   "source": [
    "import tensorflow as tf\n",
    "from tensorflow import keras"
   ]
  },
  {
   "cell_type": "code",
   "execution_count": 17,
   "metadata": {},
   "outputs": [
    {
     "name": "stdout",
     "output_type": "stream",
     "text": [
      "2.3.0\n"
     ]
    }
   ],
   "source": [
    "print(tf.__version__)"
   ]
  },
  {
   "cell_type": "code",
   "execution_count": 18,
   "metadata": {},
   "outputs": [],
   "source": [
    "model = keras.Sequential()"
   ]
  },
  {
   "cell_type": "code",
   "execution_count": 22,
   "metadata": {},
   "outputs": [
    {
     "data": {
      "text/plain": [
       "302"
      ]
     },
     "execution_count": 22,
     "metadata": {},
     "output_type": "execute_result"
    }
   ],
   "source": [
    "X_train.shape[1]"
   ]
  },
  {
   "cell_type": "code",
   "execution_count": 47,
   "metadata": {},
   "outputs": [],
   "source": [
    "model.add(keras.layers.Dense(512, activation = 'relu',\n",
    "                             input_shape = (X_train.shape[1],)))\n",
    "model.add(keras.layers.Dense(1))\n",
    "model.compile(optimizer='adam',loss='mse',metrics = ['mae'])"
   ]
  },
  {
   "cell_type": "code",
   "execution_count": 48,
   "metadata": {},
   "outputs": [
    {
     "name": "stdout",
     "output_type": "stream",
     "text": [
      "Epoch 1/80\n",
      "  1/976 [..............................] - ETA: 0s - loss: 145.5535 - mae: 12.0646WARNING:tensorflow:Callbacks method `on_train_batch_end` is slow compared to the batch time (batch time: 0.0000s vs `on_train_batch_end` time: 0.0010s). Check your callbacks.\n",
      "976/976 [==============================] - 1s 540us/step - loss: 1.7652 - mae: 0.3087\n",
      "Epoch 2/80\n",
      "976/976 [==============================] - 1s 540us/step - loss: 0.0155 - mae: 0.0965\n",
      "Epoch 3/80\n",
      "976/976 [==============================] - 1s 527us/step - loss: 0.0171 - mae: 0.1028\n",
      "Epoch 4/80\n",
      "976/976 [==============================] - 1s 530us/step - loss: 0.0208 - mae: 0.1112\n",
      "Epoch 5/80\n",
      "976/976 [==============================] - 1s 527us/step - loss: 0.0207 - mae: 0.1123\n",
      "Epoch 6/80\n",
      "976/976 [==============================] - 1s 531us/step - loss: 0.0207 - mae: 0.1109\n",
      "Epoch 7/80\n",
      "976/976 [==============================] - 1s 528us/step - loss: 0.0245 - mae: 0.1200\n",
      "Epoch 8/80\n",
      "976/976 [==============================] - 1s 527us/step - loss: 0.0202 - mae: 0.1109\n",
      "Epoch 9/80\n",
      "976/976 [==============================] - 1s 530us/step - loss: 0.0220 - mae: 0.1136\n",
      "Epoch 10/80\n",
      "976/976 [==============================] - 1s 527us/step - loss: 0.0231 - mae: 0.1169\n",
      "Epoch 11/80\n",
      "976/976 [==============================] - 1s 520us/step - loss: 0.0223 - mae: 0.1156\n",
      "Epoch 12/80\n",
      "976/976 [==============================] - 1s 528us/step - loss: 0.0211 - mae: 0.1125\n",
      "Epoch 13/80\n",
      "976/976 [==============================] - 1s 527us/step - loss: 0.0227 - mae: 0.1172\n",
      "Epoch 14/80\n",
      "976/976 [==============================] - 1s 532us/step - loss: 0.0199 - mae: 0.1094\n",
      "Epoch 15/80\n",
      "976/976 [==============================] - 1s 530us/step - loss: 0.0218 - mae: 0.1142\n",
      "Epoch 16/80\n",
      "976/976 [==============================] - 1s 533us/step - loss: 0.0200 - mae: 0.1107\n",
      "Epoch 17/80\n",
      "976/976 [==============================] - 1s 545us/step - loss: 0.0192 - mae: 0.1064\n",
      "Epoch 18/80\n",
      "976/976 [==============================] - 1s 530us/step - loss: 0.0179 - mae: 0.1041\n",
      "Epoch 19/80\n",
      "976/976 [==============================] - 1s 692us/step - loss: 0.0218 - mae: 0.1175\n",
      "Epoch 20/80\n",
      "976/976 [==============================] - 1s 576us/step - loss: 0.0215 - mae: 0.1131\n",
      "Epoch 21/80\n",
      "976/976 [==============================] - 1s 531us/step - loss: 0.0198 - mae: 0.1092\n",
      "Epoch 22/80\n",
      "976/976 [==============================] - 1s 530us/step - loss: 0.0184 - mae: 0.1038\n",
      "Epoch 23/80\n",
      "976/976 [==============================] - 1s 530us/step - loss: 0.0206 - mae: 0.1096\n",
      "Epoch 24/80\n",
      "976/976 [==============================] - 1s 530us/step - loss: 0.0171 - mae: 0.1005\n",
      "Epoch 25/80\n",
      "976/976 [==============================] - 1s 527us/step - loss: 0.0212 - mae: 0.1134\n",
      "Epoch 26/80\n",
      "976/976 [==============================] - 1s 528us/step - loss: 0.0196 - mae: 0.1089\n",
      "Epoch 27/80\n",
      "976/976 [==============================] - 1s 533us/step - loss: 0.0214 - mae: 0.1141\n",
      "Epoch 28/80\n",
      "976/976 [==============================] - 1s 530us/step - loss: 0.0201 - mae: 0.1080\n",
      "Epoch 29/80\n",
      "976/976 [==============================] - 1s 527us/step - loss: 0.0198 - mae: 0.1101\n",
      "Epoch 30/80\n",
      "976/976 [==============================] - 1s 532us/step - loss: 0.0182 - mae: 0.1033\n",
      "Epoch 31/80\n",
      "976/976 [==============================] - 1s 527us/step - loss: 0.0185 - mae: 0.1050\n",
      "Epoch 32/80\n",
      "976/976 [==============================] - 1s 528us/step - loss: 0.0223 - mae: 0.1143\n",
      "Epoch 33/80\n",
      "976/976 [==============================] - 1s 534us/step - loss: 0.0189 - mae: 0.1076\n",
      "Epoch 34/80\n",
      "976/976 [==============================] - 1s 531us/step - loss: 0.0212 - mae: 0.1120\n",
      "Epoch 35/80\n",
      "976/976 [==============================] - 1s 534us/step - loss: 0.0195 - mae: 0.1093\n",
      "Epoch 36/80\n",
      "976/976 [==============================] - 1s 530us/step - loss: 0.0184 - mae: 0.1056\n",
      "Epoch 37/80\n",
      "976/976 [==============================] - 1s 538us/step - loss: 0.0175 - mae: 0.1009\n",
      "Epoch 38/80\n",
      "976/976 [==============================] - 1s 539us/step - loss: 0.0195 - mae: 0.1087\n",
      "Epoch 39/80\n",
      "976/976 [==============================] - 1s 531us/step - loss: 0.0190 - mae: 0.1052\n",
      "Epoch 40/80\n",
      "976/976 [==============================] - 1s 530us/step - loss: 0.0173 - mae: 0.1019\n",
      "Epoch 41/80\n",
      "976/976 [==============================] - 1s 531us/step - loss: 0.0349 - mae: 0.1310\n",
      "Epoch 42/80\n",
      "976/976 [==============================] - 1s 534us/step - loss: 0.0199 - mae: 0.1065\n",
      "Epoch 43/80\n",
      "976/976 [==============================] - 1s 530us/step - loss: 0.0185 - mae: 0.1048\n",
      "Epoch 44/80\n",
      "976/976 [==============================] - 1s 531us/step - loss: 0.0170 - mae: 0.1009\n",
      "Epoch 45/80\n",
      "976/976 [==============================] - 1s 527us/step - loss: 0.0188 - mae: 0.1050\n",
      "Epoch 46/80\n",
      "976/976 [==============================] - 1s 528us/step - loss: 0.0213 - mae: 0.1126\n",
      "Epoch 47/80\n",
      "976/976 [==============================] - 1s 528us/step - loss: 0.0172 - mae: 0.1004\n",
      "Epoch 48/80\n",
      "976/976 [==============================] - 1s 528us/step - loss: 0.0193 - mae: 0.1062\n",
      "Epoch 49/80\n",
      "976/976 [==============================] - 1s 527us/step - loss: 0.0158 - mae: 0.0953\n",
      "Epoch 50/80\n",
      "976/976 [==============================] - 1s 527us/step - loss: 0.0204 - mae: 0.1106\n",
      "Epoch 51/80\n",
      "976/976 [==============================] - 1s 530us/step - loss: 0.0166 - mae: 0.0993\n",
      "Epoch 52/80\n",
      "976/976 [==============================] - 1s 528us/step - loss: 0.0167 - mae: 0.0999\n",
      "Epoch 53/80\n",
      "976/976 [==============================] - 1s 528us/step - loss: 0.0195 - mae: 0.1107\n",
      "Epoch 54/80\n",
      "976/976 [==============================] - 1s 529us/step - loss: 0.0236 - mae: 0.1139\n",
      "Epoch 55/80\n",
      "976/976 [==============================] - 1s 540us/step - loss: 0.0189 - mae: 0.1045\n",
      "Epoch 56/80\n",
      "976/976 [==============================] - 1s 530us/step - loss: 0.0191 - mae: 0.1070\n",
      "Epoch 57/80\n",
      "976/976 [==============================] - 1s 543us/step - loss: 0.0176 - mae: 0.1003\n",
      "Epoch 58/80\n",
      "976/976 [==============================] - 1s 527us/step - loss: 0.0182 - mae: 0.1032\n",
      "Epoch 59/80\n",
      "976/976 [==============================] - 1s 532us/step - loss: 0.0181 - mae: 0.1035\n",
      "Epoch 60/80\n",
      "976/976 [==============================] - 1s 528us/step - loss: 0.0191 - mae: 0.1063\n",
      "Epoch 61/80\n",
      "976/976 [==============================] - 1s 532us/step - loss: 0.0173 - mae: 0.1024\n",
      "Epoch 62/80\n",
      "976/976 [==============================] - 1s 535us/step - loss: 0.0190 - mae: 0.1070\n",
      "Epoch 63/80\n",
      "976/976 [==============================] - 1s 533us/step - loss: 0.0170 - mae: 0.1012\n",
      "Epoch 64/80\n",
      "976/976 [==============================] - 1s 582us/step - loss: 0.0210 - mae: 0.1092\n",
      "Epoch 65/80\n",
      "976/976 [==============================] - 1s 557us/step - loss: 0.0188 - mae: 0.1038\n",
      "Epoch 66/80\n",
      "976/976 [==============================] - 1s 559us/step - loss: 0.0179 - mae: 0.1041\n",
      "Epoch 67/80\n",
      "976/976 [==============================] - 1s 552us/step - loss: 0.0196 - mae: 0.1071\n",
      "Epoch 68/80\n",
      "976/976 [==============================] - 1s 573us/step - loss: 0.0169 - mae: 0.0999\n",
      "Epoch 69/80\n",
      "976/976 [==============================] - 1s 528us/step - loss: 0.0173 - mae: 0.1002\n",
      "Epoch 70/80\n",
      "976/976 [==============================] - 1s 559us/step - loss: 0.0176 - mae: 0.1023\n",
      "Epoch 71/80\n",
      "976/976 [==============================] - 1s 551us/step - loss: 0.0170 - mae: 0.1002\n",
      "Epoch 72/80\n",
      "976/976 [==============================] - 1s 537us/step - loss: 0.0183 - mae: 0.1023\n",
      "Epoch 73/80\n",
      "976/976 [==============================] - 1s 534us/step - loss: 0.0190 - mae: 0.1073\n",
      "Epoch 74/80\n",
      "976/976 [==============================] - 1s 530us/step - loss: 0.0175 - mae: 0.1015\n",
      "Epoch 75/80\n",
      "976/976 [==============================] - 1s 530us/step - loss: 0.0190 - mae: 0.1062\n",
      "Epoch 76/80\n",
      "976/976 [==============================] - 1s 536us/step - loss: 0.0176 - mae: 0.1025\n",
      "Epoch 77/80\n",
      "976/976 [==============================] - 1s 528us/step - loss: 0.0181 - mae: 0.1037\n",
      "Epoch 78/80\n",
      "976/976 [==============================] - 1s 534us/step - loss: 0.0154 - mae: 0.0966\n",
      "Epoch 79/80\n",
      "976/976 [==============================] - 1s 529us/step - loss: 0.0157 - mae: 0.0958\n",
      "Epoch 80/80\n",
      "976/976 [==============================] - 1s 529us/step - loss: 0.0190 - mae: 0.1066\n"
     ]
    },
    {
     "data": {
      "text/plain": [
       "<tensorflow.python.keras.callbacks.History at 0x254caf36da0>"
      ]
     },
     "execution_count": 48,
     "metadata": {},
     "output_type": "execute_result"
    }
   ],
   "source": [
    "model.fit(X_train,y_train, epochs=80, batch_size=1, verbose= True)"
   ]
  },
  {
   "cell_type": "code",
   "execution_count": 49,
   "metadata": {},
   "outputs": [],
   "source": [
    "pred = model.predict(X_test)"
   ]
  },
  {
   "cell_type": "code",
   "execution_count": 50,
   "metadata": {},
   "outputs": [
    {
     "data": {
      "text/plain": [
       "0.8410342733272993"
      ]
     },
     "execution_count": 50,
     "metadata": {},
     "output_type": "execute_result"
    }
   ],
   "source": [
    "metrics.r2_score(y_test, pred)"
   ]
  },
  {
   "cell_type": "code",
   "execution_count": null,
   "metadata": {},
   "outputs": [],
   "source": []
  }
 ],
 "metadata": {
  "kernelspec": {
   "display_name": "Python 3",
   "language": "python",
   "name": "python3"
  },
  "language_info": {
   "codemirror_mode": {
    "name": "ipython",
    "version": 3
   },
   "file_extension": ".py",
   "mimetype": "text/x-python",
   "name": "python",
   "nbconvert_exporter": "python",
   "pygments_lexer": "ipython3",
   "version": "3.7.3"
  }
 },
 "nbformat": 4,
 "nbformat_minor": 2
}
