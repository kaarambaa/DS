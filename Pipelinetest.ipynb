{
 "cells": [
  {
   "cell_type": "code",
   "execution_count": 1,
   "metadata": {},
   "outputs": [],
   "source": [
    "import numpy as np \n",
    "import pandas as pd\n",
    "from sklearn.base import BaseEstimator, TransformerMixin\n",
    "from sklearn.preprocessing import LabelEncoder, MinMaxScaler\n",
    "from sklearn.impute import SimpleImputer\n",
    "from sklearn.pipeline import FeatureUnion, Pipeline \n",
    "from sklearn.preprocessing import PowerTransformer"
   ]
  },
  {
   "cell_type": "code",
   "execution_count": 2,
   "metadata": {},
   "outputs": [],
   "source": [
    "train = pd.read_csv('train.csv')"
   ]
  },
  {
   "cell_type": "code",
   "execution_count": 3,
   "metadata": {},
   "outputs": [],
   "source": [
    "test_X = pd.read_csv('test.csv')\n",
    "test_Y = pd.read_csv('sample_submission.csv').drop(\"Id\", axis = 1)"
   ]
  },
  {
   "cell_type": "code",
   "execution_count": 4,
   "metadata": {},
   "outputs": [],
   "source": [
    "class FixNone(BaseEstimator, TransformerMixin):\n",
    "\n",
    "    def fit( self, X, y= None):\n",
    "        return self\n",
    "    \n",
    "    def drop(self,df):\n",
    "        if 'Id' in df.columns:\n",
    "            df.drop('Id',axis=1,inplace=True)\n",
    "        threshold = df.shape[0]*0.82\n",
    "        df.dropna(axis = 1, thresh = threshold, inplace = True)\n",
    "        return df\n",
    "    \n",
    "    def transform(self,df, y = None):\n",
    "        df = self.drop(df)\n",
    "        for col in df.columns[df.dtypes == 'object']:\n",
    "            df[col].fillna('NoData',inplace=True)\n",
    "        for col in df.columns[df.dtypes != 'object']:\n",
    "            df[col].fillna(df[col].median(), inplace=True)\n",
    "            \n",
    "        return df"
   ]
  },
  {
   "cell_type": "code",
   "execution_count": 5,
   "metadata": {},
   "outputs": [],
   "source": [
    "class PrepareCat(BaseEstimator, TransformerMixin):\n",
    "    \n",
    "    def fit(self, X, y = None):\n",
    "        return self\n",
    "    \n",
    "    def transform(self, df, y = None):\n",
    "        le = LabelEncoder()\n",
    "        for col in df.columns[df.dtypes == 'object']:\n",
    "            df[col] = le.fit_transform(df[col])\n",
    "        return df"
   ]
  },
  {
   "cell_type": "code",
   "execution_count": 6,
   "metadata": {},
   "outputs": [],
   "source": [
    "class PrepareNumeric(BaseEstimator, TransformerMixin):\n",
    "\n",
    "    def fit( self, X, y= None):\n",
    "        return self\n",
    "    \n",
    "    def transform(self,df, y = None):\n",
    "\n",
    "        date=['YearBuilt','YearRemodAdd','GarageYrBlt',\n",
    "                  'MoSold','YrSold']\n",
    "       \n",
    "        num=[]\n",
    "        for col in df.columns:\n",
    "            if df[col].dtype!='O' and len(df[col].unique()) >15 and col not in date:\n",
    "                num.append(col)\n",
    "\n",
    "        skewed_features=[]\n",
    "       \n",
    "        for col in num:\n",
    "            if df[col].skew()>0 or df[col].skew()<0:\n",
    "                skewed_features.append(col)\n",
    "        \n",
    "        \n",
    "        for col in skewed_features:\n",
    "            if 0 not in df[col].unique():\n",
    "                df[col]=np.log(df[col])\n",
    "            \n",
    "        return df"
   ]
  },
  {
   "cell_type": "code",
   "execution_count": 41,
   "metadata": {},
   "outputs": [],
   "source": [
    "def transformY(y):\n",
    "    y = np.log(y)\n",
    "    return y.values"
   ]
  },
  {
   "cell_type": "code",
   "execution_count": 21,
   "metadata": {},
   "outputs": [],
   "source": [
    "main_Pipe = Pipeline( steps = [('FixNone',FixNone()),\n",
    "                                ('FixCat', PrepareCat()),\n",
    "                                ('FixNum',PrepareNumeric()),\n",
    "                                ('Scaler', MinMaxScaler())])"
   ]
  },
  {
   "cell_type": "code",
   "execution_count": 9,
   "metadata": {},
   "outputs": [],
   "source": [
    "from sklearn.linear_model import LinearRegression\n",
    "from sklearn.model_selection import train_test_split\n",
    "from sklearn.linear_model import LinearRegression, Ridge, Lasso\n",
    "from sklearn.neighbors import KNeighborsRegressor\n",
    "from sklearn.svm import SVR\n",
    "from sklearn import metrics\n",
    "from sklearn.ensemble import RandomForestRegressor, GradientBoostingRegressor\n",
    "from sklearn.preprocessing import StandardScaler, MinMaxScaler\n"
   ]
  },
  {
   "cell_type": "code",
   "execution_count": 52,
   "metadata": {},
   "outputs": [],
   "source": [
    "X = train.drop(columns=['SalePrice'],axis=1)"
   ]
  },
  {
   "cell_type": "code",
   "execution_count": 33,
   "metadata": {},
   "outputs": [],
   "source": [
    "X_train = main_Pipe.fit(X).transform(X)"
   ]
  },
  {
   "cell_type": "code",
   "execution_count": 42,
   "metadata": {},
   "outputs": [],
   "source": [
    "y_train = transformY(train['SalePrice'])"
   ]
  },
  {
   "cell_type": "code",
   "execution_count": 34,
   "metadata": {},
   "outputs": [],
   "source": [
    "X_test = main_Pipe.fit(test_X).transform(test_X)"
   ]
  },
  {
   "cell_type": "code",
   "execution_count": 43,
   "metadata": {},
   "outputs": [],
   "source": [
    "y_test = transformY(test_Y['SalePrice'])"
   ]
  },
  {
   "cell_type": "code",
   "execution_count": 45,
   "metadata": {},
   "outputs": [
    {
     "name": "stdout",
     "output_type": "stream",
     "text": [
      "X_train имеет размерность (1460, 74), y_test - (1460,)\n",
      "X_test имеет размерность (1459, 74), y_test - (1459,)\n"
     ]
    }
   ],
   "source": [
    "print(f'X_train имеет размерность {X_train.shape}, y_test - {y_train.shape}')\n",
    "print(f'X_test имеет размерность {X_test.shape}, y_test - {y_test.shape}')"
   ]
  },
  {
   "cell_type": "code",
   "execution_count": 25,
   "metadata": {},
   "outputs": [
    {
     "data": {
      "text/html": [
       "<div>\n",
       "<style scoped>\n",
       "    .dataframe tbody tr th:only-of-type {\n",
       "        vertical-align: middle;\n",
       "    }\n",
       "\n",
       "    .dataframe tbody tr th {\n",
       "        vertical-align: top;\n",
       "    }\n",
       "\n",
       "    .dataframe thead th {\n",
       "        text-align: right;\n",
       "    }\n",
       "</style>\n",
       "<table border=\"1\" class=\"dataframe\">\n",
       "  <thead>\n",
       "    <tr style=\"text-align: right;\">\n",
       "      <th></th>\n",
       "      <th>SalePrice</th>\n",
       "      <th>SalePrice</th>\n",
       "    </tr>\n",
       "  </thead>\n",
       "  <tbody>\n",
       "    <tr>\n",
       "      <th>0</th>\n",
       "      <td>12.247694</td>\n",
       "      <td>12.039292</td>\n",
       "    </tr>\n",
       "    <tr>\n",
       "      <th>1</th>\n",
       "      <td>12.109011</td>\n",
       "      <td>12.142911</td>\n",
       "    </tr>\n",
       "    <tr>\n",
       "      <th>2</th>\n",
       "      <td>12.317167</td>\n",
       "      <td>12.120426</td>\n",
       "    </tr>\n",
       "    <tr>\n",
       "      <th>3</th>\n",
       "      <td>11.849398</td>\n",
       "      <td>12.096913</td>\n",
       "    </tr>\n",
       "    <tr>\n",
       "      <th>4</th>\n",
       "      <td>12.429216</td>\n",
       "      <td>11.923246</td>\n",
       "    </tr>\n",
       "    <tr>\n",
       "      <th>...</th>\n",
       "      <td>...</td>\n",
       "      <td>...</td>\n",
       "    </tr>\n",
       "    <tr>\n",
       "      <th>1455</th>\n",
       "      <td>12.072541</td>\n",
       "      <td>12.012420</td>\n",
       "    </tr>\n",
       "    <tr>\n",
       "      <th>1456</th>\n",
       "      <td>12.254863</td>\n",
       "      <td>12.297842</td>\n",
       "    </tr>\n",
       "    <tr>\n",
       "      <th>1457</th>\n",
       "      <td>12.493130</td>\n",
       "      <td>12.127702</td>\n",
       "    </tr>\n",
       "    <tr>\n",
       "      <th>1458</th>\n",
       "      <td>11.864462</td>\n",
       "      <td>12.142823</td>\n",
       "    </tr>\n",
       "    <tr>\n",
       "      <th>1459</th>\n",
       "      <td>11.901583</td>\n",
       "      <td>NaN</td>\n",
       "    </tr>\n",
       "  </tbody>\n",
       "</table>\n",
       "<p>1460 rows × 2 columns</p>\n",
       "</div>"
      ],
      "text/plain": [
       "      SalePrice  SalePrice\n",
       "0     12.247694  12.039292\n",
       "1     12.109011  12.142911\n",
       "2     12.317167  12.120426\n",
       "3     11.849398  12.096913\n",
       "4     12.429216  11.923246\n",
       "...         ...        ...\n",
       "1455  12.072541  12.012420\n",
       "1456  12.254863  12.297842\n",
       "1457  12.493130  12.127702\n",
       "1458  11.864462  12.142823\n",
       "1459  11.901583        NaN\n",
       "\n",
       "[1460 rows x 2 columns]"
      ]
     },
     "execution_count": 25,
     "metadata": {},
     "output_type": "execute_result"
    }
   ],
   "source": [
    "pd.DataFrame([pd.Series(y_train),pd.Series(y_test)]).T"
   ]
  },
  {
   "cell_type": "code",
   "execution_count": 47,
   "metadata": {},
   "outputs": [],
   "source": [
    " # X_train,X_test,y_train,y_test=train_test_split(X,y,test_size=0.3,random_state=0)"
   ]
  },
  {
   "cell_type": "code",
   "execution_count": 48,
   "metadata": {},
   "outputs": [
    {
     "name": "stdout",
     "output_type": "stream",
     "text": [
      "MAE: 22.014003274390213\n",
      "MSE: 485.1931150130167\n",
      "RMSE: 22.027099559701835\n",
      "R2 -59870.10279472933\n"
     ]
    }
   ],
   "source": [
    "LR = LinearRegression().fit(X_train,y_train)\n",
    "y_pred = LR.predict(X_test)\n",
    "print(\"MAE:\", metrics.mean_absolute_error(y_test, y_pred))\n",
    "print('MSE:', metrics.mean_squared_error(y_test, y_pred))\n",
    "print('RMSE:', np.sqrt(metrics.mean_squared_error(y_test, y_pred)))\n",
    "print('R2',LR.score(X_test,y_test))"
   ]
  },
  {
   "cell_type": "code",
   "execution_count": 49,
   "metadata": {},
   "outputs": [
    {
     "name": "stdout",
     "output_type": "stream",
     "text": [
      "MAE: 0.29490166106226795\n",
      "MSE: 0.12140812370576229\n",
      "RMSE: 0.3484366853615765\n",
      "R2 -13.981330174703535\n"
     ]
    }
   ],
   "source": [
    "KNN = KNeighborsRegressor(n_neighbors=10)\n",
    "KNN.fit(X_train, y_train)\n",
    "y_pred = KNN.predict(X_test)\n",
    "print(\"MAE:\", metrics.mean_absolute_error(y_test, y_pred))\n",
    "print('MSE:', metrics.mean_squared_error(y_test, y_pred))\n",
    "print('RMSE:', np.sqrt(metrics.mean_squared_error(y_test, y_pred)))\n",
    "print('R2',KNN.score(X_test,y_test))"
   ]
  },
  {
   "cell_type": "code",
   "execution_count": 50,
   "metadata": {},
   "outputs": [
    {
     "name": "stdout",
     "output_type": "stream",
     "text": [
      "MAE: 0.3751038452541447\n",
      "MSE: 0.197061000244176\n",
      "RMSE: 0.44391553278092893\n",
      "R2 -23.31662576690669\n"
     ]
    }
   ],
   "source": [
    "RF = RandomForestRegressor(n_estimators=100)\n",
    "RF.fit(X_train, y_train)\n",
    "y_pred = RF.predict(X_test)\n",
    "print(\"MAE:\", metrics.mean_absolute_error(y_test, y_pred))\n",
    "print('MSE:', metrics.mean_squared_error(y_test, y_pred))\n",
    "print('RMSE:', np.sqrt(metrics.mean_squared_error(y_test, y_pred)))\n",
    "print('R2',RF.score(X_test,y_test))"
   ]
  },
  {
   "cell_type": "code",
   "execution_count": 51,
   "metadata": {},
   "outputs": [
    {
     "name": "stdout",
     "output_type": "stream",
     "text": [
      "MAE: 0.3751038452541447\n",
      "MSE: 0.197061000244176\n",
      "RMSE: 0.44391553278092893\n",
      "R2 -26.946086396658988\n"
     ]
    }
   ],
   "source": [
    "GB = GradientBoostingRegressor()\n",
    "GB.fit(X_train,y_train)\n",
    "y_pred = RF.predict(X_test)\n",
    "print(\"MAE:\", metrics.mean_absolute_error(y_test, y_pred))\n",
    "print('MSE:', metrics.mean_squared_error(y_test, y_pred))\n",
    "print('RMSE:', np.sqrt(metrics.mean_squared_error(y_test, y_pred)))\n",
    "print('R2',GB.score(X_test,y_test))"
   ]
  },
  {
   "cell_type": "markdown",
   "metadata": {},
   "source": [
    "#### Для сравнения - разбиение train.csv на train и test"
   ]
  },
  {
   "cell_type": "code",
   "execution_count": 53,
   "metadata": {},
   "outputs": [],
   "source": [
    "XX = train.drop('SalePrice', axis = 1)\n",
    "YY = train['SalePrice']"
   ]
  },
  {
   "cell_type": "code",
   "execution_count": 54,
   "metadata": {},
   "outputs": [],
   "source": [
    "XX_train, XX_test, yy_train, yy_test = train_test_split(main_Pipe.fit(XX).transform(XX), transformY(YY),test_size=0.3,random_state=0)"
   ]
  },
  {
   "cell_type": "code",
   "execution_count": 55,
   "metadata": {},
   "outputs": [
    {
     "name": "stdout",
     "output_type": "stream",
     "text": [
      "MAE: 0.09579567390360567\n",
      "MSE: 0.030598521112347513\n",
      "RMSE: 0.1749243296752842\n",
      "R2 0.8019655920916235\n"
     ]
    }
   ],
   "source": [
    "LR = LinearRegression().fit(XX_train,yy_train)\n",
    "yy_pred = LR.predict(XX_test)\n",
    "print(\"MAE:\", metrics.mean_absolute_error(yy_test, yy_pred))\n",
    "print('MSE:', metrics.mean_squared_error(yy_test, yy_pred))\n",
    "print('RMSE:', np.sqrt(metrics.mean_squared_error(yy_test, yy_pred)))\n",
    "print('R2',LR.score(XX_test,yy_test))"
   ]
  },
  {
   "cell_type": "code",
   "execution_count": null,
   "metadata": {},
   "outputs": [],
   "source": []
  }
 ],
 "metadata": {
  "kernelspec": {
   "display_name": "Python 3",
   "language": "python",
   "name": "python3"
  },
  "language_info": {
   "codemirror_mode": {
    "name": "ipython",
    "version": 3
   },
   "file_extension": ".py",
   "mimetype": "text/x-python",
   "name": "python",
   "nbconvert_exporter": "python",
   "pygments_lexer": "ipython3",
   "version": "3.7.3"
  }
 },
 "nbformat": 4,
 "nbformat_minor": 2
}
