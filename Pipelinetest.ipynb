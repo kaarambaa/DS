{
 "cells": [
  {
   "cell_type": "code",
   "execution_count": 399,
   "metadata": {},
   "outputs": [],
   "source": [
    "import numpy as np \n",
    "import pandas as pd\n",
    "from sklearn.base import BaseEstimator, TransformerMixin\n",
    "from sklearn.preprocessing import LabelEncoder, MinMaxScaler , OneHotEncoder\n",
    "from sklearn.impute import SimpleImputer\n",
    "from sklearn.pipeline import FeatureUnion, Pipeline \n",
    "from sklearn.preprocessing import PowerTransformer"
   ]
  },
  {
   "cell_type": "code",
   "execution_count": 400,
   "metadata": {},
   "outputs": [],
   "source": [
    "from sklearn.experimental import enable_iterative_imputer\n",
    "\n",
    "from sklearn.impute import IterativeImputer"
   ]
  },
  {
   "cell_type": "code",
   "execution_count": 401,
   "metadata": {},
   "outputs": [],
   "source": [
    "train = pd.read_csv('train.csv').drop('Id',axis = 1 )\n",
    "t = train.isnull().sum()\n",
    "to_drop = t[t>700].index.values\n",
    "train.drop(to_drop, axis = 1, inplace = True)"
   ]
  },
  {
   "cell_type": "code",
   "execution_count": 402,
   "metadata": {},
   "outputs": [],
   "source": [
    "test_X = pd.read_csv('test.csv').drop('Id',axis = 1 )\n",
    "test_X.drop(to_drop, axis = 1,inplace = True)\n",
    "test_Y = pd.read_csv('sample_submission.csv').drop(\"Id\", axis = 1)\n"
   ]
  },
  {
   "cell_type": "code",
   "execution_count": 403,
   "metadata": {},
   "outputs": [],
   "source": [
    "# Выбор переменных: при создании переменной данного типа с атрибутом 'obj' \n",
    "# метод transform выдаст только категориальные столбцы\n",
    "class FeatureSelector( BaseEstimator, TransformerMixin ):\n",
    "     \n",
    "    def __init__( self, feature_type ):\n",
    "        self._feature_type = feature_type \n",
    "    \n",
    "    #Return self nothing else to do here    \n",
    "    def fit( self, X, y = None ):\n",
    "        return self \n",
    "    \n",
    "    #Method that describes what we need this transformer to do\n",
    "    def transform( self, X, y = None ):\n",
    "        feature_names = []\n",
    "        if self._feature_type == 'obj':\n",
    "            for col in X.columns[X.dtypes == 'object']:\n",
    "                feature_names.append(col)\n",
    "        else:\n",
    "            for col in X.columns[X.dtypes != 'object']:\n",
    "                feature_names.append(col)\n",
    "        return X[feature_names]  "
   ]
  },
  {
   "cell_type": "code",
   "execution_count": 404,
   "metadata": {},
   "outputs": [],
   "source": [
    "# Метод transform нормализует смещенные данные\n",
    "# Проверил PowerTransform(), в данном случае работает хуже чем обычный np.log(), поэтому не стал его использовать\n",
    "class PrepareNumeric(BaseEstimator, TransformerMixin):\n",
    "\n",
    "    def fit( self, X, y= None):\n",
    "        return self\n",
    "    \n",
    "    def transform(self,df, y = None):\n",
    "\n",
    "        date=['YearBuilt','YearRemodAdd','GarageYrBlt',\n",
    "                  'MoSold','YrSold']\n",
    "       \n",
    "        for col in df.columns[df.dtypes != 'object']:\n",
    "            df[col].fillna(df[col].median(),inplace=True)\n",
    "        \n",
    "        num=[]\n",
    "        \n",
    "        for col in df.columns:\n",
    "            if df[col].dtype!='O' and len(df[col].unique()) >15 and col not in date:\n",
    "                num.append(col)\n",
    "\n",
    "        skewed_features=[]\n",
    "       \n",
    "        for col in num:\n",
    "            if df[col].skew()>0 or df[col].skew()<0:\n",
    "                skewed_features.append(col)\n",
    "        \n",
    "        \n",
    "        for col in skewed_features:\n",
    "            if 0 not in df[col].unique():\n",
    "                df[col]=np.log(df[col])\n",
    "            \n",
    "        return df.values"
   ]
  },
  {
   "cell_type": "code",
   "execution_count": 405,
   "metadata": {},
   "outputs": [],
   "source": [
    "# Не смог понять, как сделать так, чтобы Pipeline изменял по разному X и  y\n",
    "# Поэтому пока что, нормализация у - просто в виде функции\n",
    "def transformY(y):\n",
    "    y = np.log(y)\n",
    "    return y.values"
   ]
  },
  {
   "cell_type": "code",
   "execution_count": 406,
   "metadata": {},
   "outputs": [],
   "source": [
    "categorical_pipeline = Pipeline( steps = [ ( 'cat_selector', FeatureSelector('obj') ),\n",
    "                                                                                    \n",
    "                                          ('imputer', SimpleImputer(strategy = 'constant', fill_value = \"None\")),\n",
    "                                          \n",
    "                                          ( 'one_hot_encoder', OneHotEncoder(sparse = False, handle_unknown='ignore') ) ] )\n",
    "    \n",
    "#Defining the steps in the numerical pipeline     \n",
    "numerical_pipeline = Pipeline( steps = [ ( 'num_selector', FeatureSelector('num') ),\n",
    "                                  \n",
    "                                        ( 'num_transformer', PrepareNumeric() ),\n",
    "                                  \n",
    "                                        ( 'mmx_scaler', MinMaxScaler() ) ] )\n",
    "\n",
    "#Combining numerical and categorical piepline into one full big pipeline horizontally \n",
    "#using FeatureUnion\n",
    "full_pipeline = FeatureUnion( transformer_list = [ ( 'categorical_pipeline', categorical_pipeline ), \n",
    "                                                  \n",
    "                                                  ( 'numerical_pipeline', numerical_pipeline ) ] )\n",
    "\n"
   ]
  },
  {
   "cell_type": "code",
   "execution_count": 407,
   "metadata": {},
   "outputs": [],
   "source": [
    "from sklearn.linear_model import LinearRegression\n",
    "from sklearn.model_selection import train_test_split\n",
    "from sklearn.linear_model import LinearRegression, Ridge, Lasso\n",
    "from sklearn.neighbors import KNeighborsRegressor\n",
    "from sklearn.svm import SVR\n",
    "from sklearn import metrics\n",
    "from sklearn.ensemble import RandomForestRegressor, GradientBoostingRegressor\n",
    "from sklearn.preprocessing import StandardScaler, MinMaxScaler"
   ]
  },
  {
   "cell_type": "markdown",
   "metadata": {},
   "source": [
    "### Использование функций без пайплайна"
   ]
  },
  {
   "cell_type": "markdown",
   "metadata": {},
   "source": [
    "У меня было предположение, почему не работает Pipeline. Оно заключалось в том, что из-за того, что Pipline сперва выполняет метод fit() для всех своих шагов, а затем уже transform() - OneHotEncoder производит fit на данных, в которых есть пропущенные значения из-за чего в свою очередь энкодер работает неверно.\n",
    "\n",
    "Однако, сделав всё вручную получил не сильно отличающийся результат"
   ]
  },
  {
   "cell_type": "code",
   "execution_count": 408,
   "metadata": {},
   "outputs": [],
   "source": [
    "X_train = train.drop(columns=['SalePrice'],axis=1)\n",
    "y_train = transformY(train['SalePrice'])\n",
    "X_test = test_X\n",
    "y_test = transformY(test_Y['SalePrice'])"
   ]
  },
  {
   "cell_type": "code",
   "execution_count": 409,
   "metadata": {},
   "outputs": [],
   "source": [
    "#Заполняю пропущенные категориальные значения в тренировочной выборке\n",
    "\n",
    "X_tr_cat =  SimpleImputer(strategy = 'constant', fill_value = \"None\").fit_transform(\n",
    "                          FeatureSelector('obj').transform(X_train))"
   ]
  },
  {
   "cell_type": "code",
   "execution_count": 410,
   "metadata": {},
   "outputs": [],
   "source": [
    "OHE = OneHotEncoder(sparse= False, handle_unknown='ignore').fit(X_tr_cat)"
   ]
  },
  {
   "cell_type": "code",
   "execution_count": 411,
   "metadata": {},
   "outputs": [],
   "source": [
    "# Удаляю первоначальные категориальные столбцы данных и вместо них вставляю матрицу OneHotEncoder-a\n",
    "\n",
    "X_train.drop(FeatureSelector('obj').transform(X_train).columns, axis = 1, inplace= True)\n",
    "X_train = pd.concat([X_train, pd.DataFrame(OHE.transform(X_tr_cat))], axis = 1)"
   ]
  },
  {
   "cell_type": "code",
   "execution_count": 412,
   "metadata": {},
   "outputs": [],
   "source": [
    "# Исправляю переменные int и float\n",
    "X_train = PrepareNumeric().transform(FeatureSelector('num').transform(X_train))"
   ]
  },
  {
   "cell_type": "code",
   "execution_count": 413,
   "metadata": {},
   "outputs": [],
   "source": [
    "MMX = MinMaxScaler().fit(X_train)"
   ]
  },
  {
   "cell_type": "code",
   "execution_count": 414,
   "metadata": {},
   "outputs": [],
   "source": [
    "X_train = pd.DataFrame(MMX.transform(X_train))"
   ]
  },
  {
   "cell_type": "code",
   "execution_count": 415,
   "metadata": {},
   "outputs": [],
   "source": [
    "# Аналогично для тестовой выборки. Энкодер обучен на тренировочной.\n",
    "\n",
    "X_te_cat = OHE.transform(SimpleImputer(strategy = 'constant', fill_value = \"None\").fit_transform(\n",
    "                         FeatureSelector('obj').transform(X_test)))\n",
    "\n",
    "X_test.drop(FeatureSelector('obj').transform(X_train).columns, axis = 1, inplace= True)\n",
    "X_test = pd.concat([X_test, pd.DataFrame(X_te_cat)], axis = 1)"
   ]
  },
  {
   "cell_type": "code",
   "execution_count": 416,
   "metadata": {},
   "outputs": [
    {
     "name": "stderr",
     "output_type": "stream",
     "text": [
      "C:\\Users\\Kostya\\Anaconda3\\lib\\site-packages\\pandas\\core\\generic.py:6245: SettingWithCopyWarning: \n",
      "A value is trying to be set on a copy of a slice from a DataFrame\n",
      "\n",
      "See the caveats in the documentation: https://pandas.pydata.org/pandas-docs/stable/user_guide/indexing.html#returning-a-view-versus-a-copy\n",
      "  self._update_inplace(new_data)\n",
      "C:\\Users\\Kostya\\Anaconda3\\lib\\site-packages\\ipykernel_launcher.py:31: SettingWithCopyWarning: \n",
      "A value is trying to be set on a copy of a slice from a DataFrame.\n",
      "Try using .loc[row_indexer,col_indexer] = value instead\n",
      "\n",
      "See the caveats in the documentation: https://pandas.pydata.org/pandas-docs/stable/user_guide/indexing.html#returning-a-view-versus-a-copy\n"
     ]
    }
   ],
   "source": [
    "X_test = pd.DataFrame(MMX.transform((PrepareNumeric().transform(FeatureSelector('num').transform(X_test)))))"
   ]
  },
  {
   "cell_type": "code",
   "execution_count": 417,
   "metadata": {},
   "outputs": [],
   "source": [
    "LR = LinearRegression()"
   ]
  },
  {
   "cell_type": "code",
   "execution_count": 418,
   "metadata": {},
   "outputs": [
    {
     "data": {
      "text/plain": [
       "LinearRegression(copy_X=True, fit_intercept=True, n_jobs=None, normalize=False)"
      ]
     },
     "execution_count": 418,
     "metadata": {},
     "output_type": "execute_result"
    }
   ],
   "source": [
    "LR.fit(X_train,y_train)"
   ]
  },
  {
   "cell_type": "code",
   "execution_count": 419,
   "metadata": {},
   "outputs": [
    {
     "name": "stdout",
     "output_type": "stream",
     "text": [
      "MAE: 294829294.3291251\n",
      "MSE: 1.0895365209042987e+19\n",
      "RMSE: 3300812810.360955\n",
      "R2 -1.3444492723257832e+21\n"
     ]
    }
   ],
   "source": [
    "y_pred = LR.predict(X_test)\n",
    "print(\"MAE:\", metrics.mean_absolute_error(y_test.reshape(-1,1), y_pred.reshape(-1,1)))\n",
    "print('MSE:', metrics.mean_squared_error(y_test.reshape(-1,1), y_pred.reshape(-1,1)))\n",
    "print('RMSE:', np.sqrt(metrics.mean_squared_error(y_test.reshape(-1,1), y_pred.reshape(-1,1))))\n",
    "print('R2',LR.score(X_test,y_test.reshape(-1,1)))"
   ]
  },
  {
   "cell_type": "markdown",
   "metadata": {},
   "source": [
    "### Pipline "
   ]
  },
  {
   "cell_type": "code",
   "execution_count": 420,
   "metadata": {},
   "outputs": [],
   "source": [
    "X_train = train.drop(columns=['SalePrice'],axis=1)\n",
    "y_train = transformY(train['SalePrice'])\n",
    "X_test = test_X\n",
    "y_test =  transformY(test_Y['SalePrice'])"
   ]
  },
  {
   "cell_type": "code",
   "execution_count": 421,
   "metadata": {},
   "outputs": [],
   "source": [
    "full_pipeline_m = Pipeline( steps = [ ( 'full_pipeline', full_pipeline),\n",
    "                                  \n",
    "                                  ( 'model', LinearRegression() ) ] )"
   ]
  },
  {
   "cell_type": "code",
   "execution_count": 422,
   "metadata": {},
   "outputs": [
    {
     "name": "stdout",
     "output_type": "stream",
     "text": [
      "MAE: 20885085348.27173\n",
      "MSE: 1.3760719979826312e+23\n",
      "RMSE: 370954444370.5495\n",
      "R2 -1.6980238485444383e+25\n"
     ]
    },
    {
     "name": "stderr",
     "output_type": "stream",
     "text": [
      "C:\\Users\\Kostya\\Anaconda3\\lib\\site-packages\\pandas\\core\\generic.py:6245: SettingWithCopyWarning: \n",
      "A value is trying to be set on a copy of a slice from a DataFrame\n",
      "\n",
      "See the caveats in the documentation: https://pandas.pydata.org/pandas-docs/stable/user_guide/indexing.html#returning-a-view-versus-a-copy\n",
      "  self._update_inplace(new_data)\n",
      "C:\\Users\\Kostya\\Anaconda3\\lib\\site-packages\\ipykernel_launcher.py:31: SettingWithCopyWarning: \n",
      "A value is trying to be set on a copy of a slice from a DataFrame.\n",
      "Try using .loc[row_indexer,col_indexer] = value instead\n",
      "\n",
      "See the caveats in the documentation: https://pandas.pydata.org/pandas-docs/stable/user_guide/indexing.html#returning-a-view-versus-a-copy\n",
      "C:\\Users\\Kostya\\Anaconda3\\lib\\site-packages\\pandas\\core\\generic.py:6245: SettingWithCopyWarning: \n",
      "A value is trying to be set on a copy of a slice from a DataFrame\n",
      "\n",
      "See the caveats in the documentation: https://pandas.pydata.org/pandas-docs/stable/user_guide/indexing.html#returning-a-view-versus-a-copy\n",
      "  self._update_inplace(new_data)\n",
      "C:\\Users\\Kostya\\Anaconda3\\lib\\site-packages\\ipykernel_launcher.py:31: SettingWithCopyWarning: \n",
      "A value is trying to be set on a copy of a slice from a DataFrame.\n",
      "Try using .loc[row_indexer,col_indexer] = value instead\n",
      "\n",
      "See the caveats in the documentation: https://pandas.pydata.org/pandas-docs/stable/user_guide/indexing.html#returning-a-view-versus-a-copy\n",
      "C:\\Users\\Kostya\\Anaconda3\\lib\\site-packages\\pandas\\core\\generic.py:6245: SettingWithCopyWarning: \n",
      "A value is trying to be set on a copy of a slice from a DataFrame\n",
      "\n",
      "See the caveats in the documentation: https://pandas.pydata.org/pandas-docs/stable/user_guide/indexing.html#returning-a-view-versus-a-copy\n",
      "  self._update_inplace(new_data)\n",
      "C:\\Users\\Kostya\\Anaconda3\\lib\\site-packages\\ipykernel_launcher.py:31: SettingWithCopyWarning: \n",
      "A value is trying to be set on a copy of a slice from a DataFrame.\n",
      "Try using .loc[row_indexer,col_indexer] = value instead\n",
      "\n",
      "See the caveats in the documentation: https://pandas.pydata.org/pandas-docs/stable/user_guide/indexing.html#returning-a-view-versus-a-copy\n"
     ]
    }
   ],
   "source": [
    "full_pipeline_m.fit(X_train,y_train)\n",
    "y_pred = full_pipeline_m.predict(X_test)\n",
    "print(\"MAE:\", metrics.mean_absolute_error(y_test, y_pred))\n",
    "print('MSE:', metrics.mean_squared_error(y_test, y_pred))\n",
    "print('RMSE:', np.sqrt(metrics.mean_squared_error(y_test, y_pred)))\n",
    "print('R2',full_pipeline_m.score(X_test,y_test))"
   ]
  },
  {
   "cell_type": "code",
   "execution_count": null,
   "metadata": {},
   "outputs": [],
   "source": []
  }
 ],
 "metadata": {
  "kernelspec": {
   "display_name": "Python 3",
   "language": "python",
   "name": "python3"
  },
  "language_info": {
   "codemirror_mode": {
    "name": "ipython",
    "version": 3
   },
   "file_extension": ".py",
   "mimetype": "text/x-python",
   "name": "python",
   "nbconvert_exporter": "python",
   "pygments_lexer": "ipython3",
   "version": "3.7.3"
  }
 },
 "nbformat": 4,
 "nbformat_minor": 2
}
