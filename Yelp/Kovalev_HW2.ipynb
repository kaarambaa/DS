{
  "nbformat": 4,
  "nbformat_minor": 0,
  "metadata": {
    "colab": {
      "name": "Копия_hw2.ipynb",
      "provenance": [],
      "collapsed_sections": []
    },
    "kernelspec": {
      "name": "python3",
      "display_name": "Python 3"
    },
    "language_info": {
      "name": "python"
    },
    "accelerator": "GPU"
  },
  "cells": [
    {
      "cell_type": "code",
      "metadata": {
        "id": "L23EhnrfX6_S",
        "colab": {
          "base_uri": "https://localhost:8080/"
        },
        "outputId": "a5ef0f3d-2c23-4183-b0f5-1b874914d90c"
      },
      "source": [
        "#hide\n",
        "!pip install -Uqq fastbook\n",
        "import fastbook\n",
        "fastbook.setup_book()\n",
        "from fastbook import *\n",
        "from IPython.display import display,HTML\n",
        "from fastai.text.all import *\n"
      ],
      "execution_count": null,
      "outputs": [
        {
          "output_type": "stream",
          "name": "stdout",
          "text": [
            "\u001b[K     |████████████████████████████████| 720 kB 5.3 MB/s \n",
            "\u001b[K     |████████████████████████████████| 46 kB 3.8 MB/s \n",
            "\u001b[K     |████████████████████████████████| 1.2 MB 36.0 MB/s \n",
            "\u001b[K     |████████████████████████████████| 189 kB 49.0 MB/s \n",
            "\u001b[K     |████████████████████████████████| 56 kB 3.7 MB/s \n",
            "\u001b[K     |████████████████████████████████| 51 kB 304 kB/s \n",
            "\u001b[?25hMounted at /content/gdrive\n"
          ]
        }
      ]
    },
    {
      "cell_type": "code",
      "metadata": {
        "id": "L144zRL5pUZW"
      },
      "source": [
        "import pandas as pd"
      ],
      "execution_count": null,
      "outputs": []
    },
    {
      "cell_type": "code",
      "metadata": {
        "id": "rP42upv2YDy3",
        "colab": {
          "base_uri": "https://localhost:8080/",
          "height": 37
        },
        "outputId": "25be4ec9-0e41-4320-f2c7-e6d838e5ebc9"
      },
      "source": [
        "\n",
        "path = untar_data(URLs.YELP_REVIEWS)\n",
        "train_csv = path/'train.csv'\n",
        "train = pd.read_csv(train_csv, header = None, names=('label','text'))\n",
        "valid_csv = path/'test.csv'\n",
        "valid = pd.read_csv(valid_csv, header = None, names=('label','text'))"
      ],
      "execution_count": null,
      "outputs": [
        {
          "output_type": "display_data",
          "data": {
            "text/html": [
              "\n",
              "    <div>\n",
              "        <style>\n",
              "            /* Turns off some styling */\n",
              "            progress {\n",
              "                /* gets rid of default border in Firefox and Opera. */\n",
              "                border: none;\n",
              "                /* Needs to be in here for Safari polyfill so background images work as expected. */\n",
              "                background-size: auto;\n",
              "            }\n",
              "            .progress-bar-interrupted, .progress-bar-interrupted::-webkit-progress-bar {\n",
              "                background: #F44336;\n",
              "            }\n",
              "        </style>\n",
              "      <progress value='196149248' class='' max='196146755' style='width:300px; height:20px; vertical-align: middle;'></progress>\n",
              "      100.00% [196149248/196146755 00:03<00:00]\n",
              "    </div>\n",
              "    "
            ],
            "text/plain": [
              "<IPython.core.display.HTML object>"
            ]
          },
          "metadata": {}
        }
      ]
    },
    {
      "cell_type": "code",
      "metadata": {
        "id": "cOsGt3F-pmHe",
        "colab": {
          "base_uri": "https://localhost:8080/",
          "height": 247
        },
        "outputId": "fbf4064d-ffa7-4ad6-ba7d-e7190407d62e"
      },
      "source": [
        "train.head(2)"
      ],
      "execution_count": null,
      "outputs": [
        {
          "output_type": "execute_result",
          "data": {
            "text/html": [
              "<div>\n",
              "<style scoped>\n",
              "    .dataframe tbody tr th:only-of-type {\n",
              "        vertical-align: middle;\n",
              "    }\n",
              "\n",
              "    .dataframe tbody tr th {\n",
              "        vertical-align: top;\n",
              "    }\n",
              "\n",
              "    .dataframe thead th {\n",
              "        text-align: right;\n",
              "    }\n",
              "</style>\n",
              "<table border=\"1\" class=\"dataframe\">\n",
              "  <thead>\n",
              "    <tr style=\"text-align: right;\">\n",
              "      <th></th>\n",
              "      <th>label</th>\n",
              "      <th>text</th>\n",
              "    </tr>\n",
              "  </thead>\n",
              "  <tbody>\n",
              "    <tr>\n",
              "      <th>0</th>\n",
              "      <td>5</td>\n",
              "      <td>dr. goldberg offers everything i look for in a general practitioner.  he's nice and easy to talk to without being patronizing; he's always on time in seeing his patients; he's affiliated with a top-notch hospital (nyu) which my parents have explained to me is very important in case something happens and you need surgery; and you can get referrals to see specialists without having to see him first.  really, what more do you need?  i'm sitting here trying to think of any complaints i have about him, but i'm really drawing a blank.</td>\n",
              "    </tr>\n",
              "    <tr>\n",
              "      <th>1</th>\n",
              "      <td>2</td>\n",
              "      <td>Unfortunately, the frustration of being Dr. Goldberg's patient is a repeat of the experience I've had with so many other doctors in NYC -- good doctor, terrible staff.  It seems that his staff simply never answers the phone.  It usually takes 2 hours of repeated calling to get an answer.  Who has time for that or wants to deal with it?  I have run into this problem with many other doctors and I just don't get it.  You have office workers, you have patients with medical needs, why isn't anyone answering the phone?  It's incomprehensible and not work the aggravation.  It's with regret that I...</td>\n",
              "    </tr>\n",
              "  </tbody>\n",
              "</table>\n",
              "</div>"
            ],
            "text/plain": [
              "   label  \\\n",
              "0      5   \n",
              "1      2   \n",
              "\n",
              "                                                                                                                                                                                                                                                                                                                                                                                                                                                                                                                                                                                                                      text  \n",
              "0                                                                   dr. goldberg offers everything i look for in a general practitioner.  he's nice and easy to talk to without being patronizing; he's always on time in seeing his patients; he's affiliated with a top-notch hospital (nyu) which my parents have explained to me is very important in case something happens and you need surgery; and you can get referrals to see specialists without having to see him first.  really, what more do you need?  i'm sitting here trying to think of any complaints i have about him, but i'm really drawing a blank.  \n",
              "1  Unfortunately, the frustration of being Dr. Goldberg's patient is a repeat of the experience I've had with so many other doctors in NYC -- good doctor, terrible staff.  It seems that his staff simply never answers the phone.  It usually takes 2 hours of repeated calling to get an answer.  Who has time for that or wants to deal with it?  I have run into this problem with many other doctors and I just don't get it.  You have office workers, you have patients with medical needs, why isn't anyone answering the phone?  It's incomprehensible and not work the aggravation.  It's with regret that I...  "
            ]
          },
          "metadata": {},
          "execution_count": 5
        }
      ]
    },
    {
      "cell_type": "markdown",
      "metadata": {
        "id": "5aP0FIf-rqn9"
      },
      "source": [
        "I've tried to create different dataloaders for train and test files, however, due to the size of files it takes ages to construct them. That is why I decided just to join train and test together, put them into the datablock and use splitter for furhte development. "
      ]
    },
    {
      "cell_type": "code",
      "metadata": {
        "id": "YiunR8HataPB",
        "colab": {
          "base_uri": "https://localhost:8080/"
        },
        "outputId": "a5d5234f-48ef-4f9a-abe6-d4d295224d67"
      },
      "source": [
        "print (f'Let\\'s define the original train/test split ration - {valid.shape[0]/(valid.shape[0]+train.shape[0])}')"
      ],
      "execution_count": null,
      "outputs": [
        {
          "output_type": "stream",
          "name": "stdout",
          "text": [
            "Let's define the original train/test split ration - 0.07142857142857142\n"
          ]
        }
      ]
    },
    {
      "cell_type": "markdown",
      "metadata": {
        "id": "Aaw1nAdauVpX"
      },
      "source": [
        "That looks rather small, so let' increase ratio at least at 80/20"
      ]
    },
    {
      "cell_type": "code",
      "metadata": {
        "id": "Kya_0JX0trkB",
        "colab": {
          "base_uri": "https://localhost:8080/"
        },
        "outputId": "cfdbaafd-64ce-4219-f7c6-82d8e3c7ea87"
      },
      "source": [
        "test"
      ],
      "execution_count": null,
      "outputs": [
        {
          "output_type": "execute_result",
          "data": {
            "text/plain": [
              "<function fastcore.test.test>"
            ]
          },
          "metadata": {},
          "execution_count": 7
        }
      ]
    },
    {
      "cell_type": "code",
      "metadata": {
        "id": "jW863-piby90"
      },
      "source": [
        "joined_DF = pd.concat([train,valid])\n",
        "joined_DB = DataBlock(blocks=TextBlock.from_df('text', is_lm=True),\n",
        "                     splitter=RandomSplitter(0.2),\n",
        "                     get_x=ColReader('text')\n",
        "                     )"
      ],
      "execution_count": null,
      "outputs": []
    },
    {
      "cell_type": "markdown",
      "metadata": {
        "id": "BehnVJ9u0XJw"
      },
      "source": [
        "Whole dataset is too big and I have strong feelings, that Colab will ran off RAM/GPU runtime, so I'll use only a part of the data"
      ]
    },
    {
      "cell_type": "code",
      "metadata": {
        "id": "YCtzsHBgui2t"
      },
      "source": [
        "part_DF = joined_DF.sample(n=5000) "
      ],
      "execution_count": null,
      "outputs": []
    },
    {
      "cell_type": "code",
      "metadata": {
        "id": "VHNmuk-W0BPS",
        "colab": {
          "base_uri": "https://localhost:8080/",
          "height": 71
        },
        "outputId": "cbf21814-4d6b-45ce-ae92-26a6f798d16b"
      },
      "source": [
        "part_loader = joined_DB.dataloaders(part_DF, bs = 32)"
      ],
      "execution_count": null,
      "outputs": [
        {
          "output_type": "display_data",
          "data": {
            "text/html": [
              ""
            ],
            "text/plain": [
              "<IPython.core.display.HTML object>"
            ]
          },
          "metadata": {}
        },
        {
          "output_type": "stream",
          "name": "stderr",
          "text": [
            "/usr/local/lib/python3.7/dist-packages/numpy/core/_asarray.py:83: VisibleDeprecationWarning: Creating an ndarray from ragged nested sequences (which is a list-or-tuple of lists-or-tuples-or ndarrays with different lengths or shapes) is deprecated. If you meant to do this, you must specify 'dtype=object' when creating the ndarray\n",
            "  return array(a, dtype, copy=False, order=order)\n"
          ]
        }
      ]
    },
    {
      "cell_type": "code",
      "metadata": {
        "id": "PVIiSF480sS3",
        "colab": {
          "base_uri": "https://localhost:8080/",
          "height": 397
        },
        "outputId": "25aaf1ac-5f93-44d4-937b-b851e554f4dc"
      },
      "source": [
        "part_loader.show_batch(max_n = 3)"
      ],
      "execution_count": null,
      "outputs": [
        {
          "output_type": "display_data",
          "data": {
            "text/html": [
              "<table border=\"1\" class=\"dataframe\">\n",
              "  <thead>\n",
              "    <tr style=\"text-align: right;\">\n",
              "      <th></th>\n",
              "      <th>text</th>\n",
              "      <th>text_</th>\n",
              "    </tr>\n",
              "  </thead>\n",
              "  <tbody>\n",
              "    <tr>\n",
              "      <th>0</th>\n",
              "      <td>xxbos xxmaj yay , got ta love the location and the food ! xxmaj the xxmaj thai is xxunk and tasty … and the bar is a nice place to sit at if you want to talk with a small group of friends . \\n\\n xxmaj over all my xxunk here was joyful and tasty xxbos xxmaj we had the xxmaj brussels xxmaj sprouts and they were delicious . xxmaj just a</td>\n",
              "      <td>xxmaj yay , got ta love the location and the food ! xxmaj the xxmaj thai is xxunk and tasty … and the bar is a nice place to sit at if you want to talk with a small group of friends . \\n\\n xxmaj over all my xxunk here was joyful and tasty xxbos xxmaj we had the xxmaj brussels xxmaj sprouts and they were delicious . xxmaj just a touch</td>\n",
              "    </tr>\n",
              "    <tr>\n",
              "      <th>1</th>\n",
              "      <td>to xxmaj mandalay xxmaj place for dinner . xxmaj but if they keep up the good work , it could compete with some of the better properties . xxbos xxmaj save your money . xxmaj you can get twice the food at half the price at other near by mexican fast food places . xxmaj enchiladas had a really odd flavor . xxmaj the red sauce that was inside them tastes as</td>\n",
              "      <td>xxmaj mandalay xxmaj place for dinner . xxmaj but if they keep up the good work , it could compete with some of the better properties . xxbos xxmaj save your money . xxmaj you can get twice the food at half the price at other near by mexican fast food places . xxmaj enchiladas had a really odd flavor . xxmaj the red sauce that was inside them tastes as if</td>\n",
              "    </tr>\n",
              "    <tr>\n",
              "      <th>2</th>\n",
              "      <td>they could break down anytime . xxbos i seem to go to xxmaj xxunk 's xxmaj stadium at least once every time i go to xxmaj vegas and yet i still never learn my lesson . \\n xxmaj let me start by saying the design of the place is really cool . xxup xxunk after xxup xxunk throughout the place and a sports book to make your xxunk . i would warn</td>\n",
              "      <td>could break down anytime . xxbos i seem to go to xxmaj xxunk 's xxmaj stadium at least once every time i go to xxmaj vegas and yet i still never learn my lesson . \\n xxmaj let me start by saying the design of the place is really cool . xxup xxunk after xxup xxunk throughout the place and a sports book to make your xxunk . i would warn you</td>\n",
              "    </tr>\n",
              "  </tbody>\n",
              "</table>"
            ],
            "text/plain": [
              "<IPython.core.display.HTML object>"
            ]
          },
          "metadata": {}
        }
      ]
    },
    {
      "cell_type": "code",
      "metadata": {
        "id": "wQJu2JGY01ON",
        "colab": {
          "base_uri": "https://localhost:8080/",
          "height": 37
        },
        "outputId": "e82c5c03-e850-4eb3-8e3c-81a1555b6e8e"
      },
      "source": [
        "learn_lm = language_model_learner(\n",
        "    part_loader, AWD_LSTM, drop_mult=0.3, \n",
        "    metrics=[accuracy, Perplexity()]).to_fp16()"
      ],
      "execution_count": null,
      "outputs": [
        {
          "output_type": "display_data",
          "data": {
            "text/html": [
              "\n",
              "    <div>\n",
              "        <style>\n",
              "            /* Turns off some styling */\n",
              "            progress {\n",
              "                /* gets rid of default border in Firefox and Opera. */\n",
              "                border: none;\n",
              "                /* Needs to be in here for Safari polyfill so background images work as expected. */\n",
              "                background-size: auto;\n",
              "            }\n",
              "            .progress-bar-interrupted, .progress-bar-interrupted::-webkit-progress-bar {\n",
              "                background: #F44336;\n",
              "            }\n",
              "        </style>\n",
              "      <progress value='105070592' class='' max='105067061' style='width:300px; height:20px; vertical-align: middle;'></progress>\n",
              "      100.00% [105070592/105067061 00:01<00:00]\n",
              "    </div>\n",
              "    "
            ],
            "text/plain": [
              "<IPython.core.display.HTML object>"
            ]
          },
          "metadata": {}
        }
      ]
    },
    {
      "cell_type": "code",
      "metadata": {
        "id": "B6cP7oXa06fY",
        "colab": {
          "base_uri": "https://localhost:8080/",
          "height": 80
        },
        "outputId": "e9abd84a-4bd3-4082-c9ef-2087a3c52388"
      },
      "source": [
        "learn_lm.fit_one_cycle(1, 5e-3)"
      ],
      "execution_count": null,
      "outputs": [
        {
          "output_type": "display_data",
          "data": {
            "text/html": [
              "<table border=\"1\" class=\"dataframe\">\n",
              "  <thead>\n",
              "    <tr style=\"text-align: left;\">\n",
              "      <th>epoch</th>\n",
              "      <th>train_loss</th>\n",
              "      <th>valid_loss</th>\n",
              "      <th>accuracy</th>\n",
              "      <th>perplexity</th>\n",
              "      <th>time</th>\n",
              "    </tr>\n",
              "  </thead>\n",
              "  <tbody>\n",
              "    <tr>\n",
              "      <td>0</td>\n",
              "      <td>4.147022</td>\n",
              "      <td>4.038417</td>\n",
              "      <td>0.264424</td>\n",
              "      <td>56.736450</td>\n",
              "      <td>02:51</td>\n",
              "    </tr>\n",
              "  </tbody>\n",
              "</table>"
            ],
            "text/plain": [
              "<IPython.core.display.HTML object>"
            ]
          },
          "metadata": {}
        }
      ]
    },
    {
      "cell_type": "code",
      "metadata": {
        "id": "Gdics4Hx08I-",
        "colab": {
          "base_uri": "https://localhost:8080/"
        },
        "outputId": "cdda4b7a-3e6f-438e-b61f-f36fa9aa9005"
      },
      "source": [
        "learn_lm.save('First_epoch')"
      ],
      "execution_count": null,
      "outputs": [
        {
          "output_type": "execute_result",
          "data": {
            "text/plain": [
              "Path('models/First_epoch.pth')"
            ]
          },
          "metadata": {},
          "execution_count": 14
        }
      ]
    },
    {
      "cell_type": "code",
      "metadata": {
        "id": "q1aH9PBa09hm"
      },
      "source": [
        "learn_lm.unfreeze()"
      ],
      "execution_count": null,
      "outputs": []
    },
    {
      "cell_type": "code",
      "metadata": {
        "id": "q1Wp21ZP0--n",
        "colab": {
          "base_uri": "https://localhost:8080/",
          "height": 300
        },
        "outputId": "5259d485-8144-48de-cbd3-f19ee278d9f8"
      },
      "source": [
        "learn_lm.lr_find()"
      ],
      "execution_count": null,
      "outputs": [
        {
          "output_type": "display_data",
          "data": {
            "text/html": [
              ""
            ],
            "text/plain": [
              "<IPython.core.display.HTML object>"
            ]
          },
          "metadata": {}
        },
        {
          "output_type": "execute_result",
          "data": {
            "text/plain": [
              "SuggestedLRs(valley=0.0003311311302240938)"
            ]
          },
          "metadata": {},
          "execution_count": 15
        },
        {
          "output_type": "display_data",
          "data": {
            "image/png": "[encoded data removed]",
            "text/plain": [
              "<Figure size 432x288 with 1 Axes>"
            ]
          },
          "metadata": {
            "needs_background": "light"
          }
        }
      ]
    },
    {
      "cell_type": "code",
      "metadata": {
        "id": "c-5DOUL3Z3x9",
        "colab": {
          "base_uri": "https://localhost:8080/",
          "height": 111
        },
        "outputId": "008df3e0-00e0-4d36-d744-03f28a8024f8"
      },
      "source": [
        "learn_lm.fit_one_cycle(2, 1e-5)"
      ],
      "execution_count": null,
      "outputs": [
        {
          "output_type": "display_data",
          "data": {
            "text/html": [
              "<table border=\"1\" class=\"dataframe\">\n",
              "  <thead>\n",
              "    <tr style=\"text-align: left;\">\n",
              "      <th>epoch</th>\n",
              "      <th>train_loss</th>\n",
              "      <th>valid_loss</th>\n",
              "      <th>accuracy</th>\n",
              "      <th>perplexity</th>\n",
              "      <th>time</th>\n",
              "    </tr>\n",
              "  </thead>\n",
              "  <tbody>\n",
              "    <tr>\n",
              "      <td>0</td>\n",
              "      <td>3.969671</td>\n",
              "      <td>4.017027</td>\n",
              "      <td>0.266662</td>\n",
              "      <td>55.535748</td>\n",
              "      <td>03:15</td>\n",
              "    </tr>\n",
              "    <tr>\n",
              "      <td>1</td>\n",
              "      <td>3.953327</td>\n",
              "      <td>4.010962</td>\n",
              "      <td>0.267237</td>\n",
              "      <td>55.199921</td>\n",
              "      <td>03:15</td>\n",
              "    </tr>\n",
              "  </tbody>\n",
              "</table>"
            ],
            "text/plain": [
              "<IPython.core.display.HTML object>"
            ]
          },
          "metadata": {}
        }
      ]
    },
    {
      "cell_type": "code",
      "metadata": {
        "id": "6f85b_Od1CAN"
      },
      "source": [
        "learn_lm.save_encoder('fine_tuned')"
      ],
      "execution_count": null,
      "outputs": []
    },
    {
      "cell_type": "code",
      "metadata": {
        "id": "w4DzpiO21F22",
        "colab": {
          "base_uri": "https://localhost:8080/",
          "height": 54
        },
        "outputId": "fcaae6ba-090d-4d3d-96b8-dbb8e0cd7698"
      },
      "source": [
        "TEXT = \"This subject was very interesting\"\n",
        "N_WORDS = 40\n",
        "N_SENTENCES = 1\n",
        "predictions = [learn_lm.predict(TEXT, N_WORDS, temperature=0.75) \n",
        "         for _ in range(N_SENTENCES)]\n",
        "\n",
        "print(\"\\n\".join(predictions))"
      ],
      "execution_count": null,
      "outputs": [
        {
          "output_type": "display_data",
          "data": {
            "text/html": [
              ""
            ],
            "text/plain": [
              "<IPython.core.display.HTML object>"
            ]
          },
          "metadata": {}
        },
        {
          "output_type": "stream",
          "name": "stdout",
          "text": [
            "This subject was very interesting to me . There was great experience in the environment , without being sick . They did not have enough hits to get the diagnosis from anything . Hopefully , a chance when they need someone to\n"
          ]
        }
      ]
    },
    {
      "cell_type": "markdown",
      "metadata": {
        "id": "LsCX1leNyJvy"
      },
      "source": [
        "The quality of text generator is very low, but I've trained it on really small part of data. If I use my local machine it wouldn't be a problem, however Keras doesn't support AWD_LSTM, so I had to use Fastai in Colab, which has restriction to the GPU usage time"
      ]
    },
    {
      "cell_type": "code",
      "metadata": {
        "id": "s7V9tM1n1KdU",
        "colab": {
          "base_uri": "https://localhost:8080/",
          "height": 71
        },
        "outputId": "3db44108-db73-4d1a-c7f8-9bb338b2f902"
      },
      "source": [
        "class_DB = DataBlock(\n",
        "    blocks=(TextBlock.from_df('text',seq_len=72, vocab=part_loader.vocab),CategoryBlock),\n",
        "    get_x = ColReader('text'),\n",
        "    get_y=ColReader('label'),\n",
        "    splitter=RandomSplitter(0.2)).dataloaders(valid,bs = 32, seq_len = 72)\n"
      ],
      "execution_count": null,
      "outputs": [
        {
          "output_type": "display_data",
          "data": {
            "text/html": [
              ""
            ],
            "text/plain": [
              "<IPython.core.display.HTML object>"
            ]
          },
          "metadata": {}
        },
        {
          "output_type": "stream",
          "name": "stderr",
          "text": [
            "/usr/local/lib/python3.7/dist-packages/numpy/core/_asarray.py:83: VisibleDeprecationWarning: Creating an ndarray from ragged nested sequences (which is a list-or-tuple of lists-or-tuples-or ndarrays with different lengths or shapes) is deprecated. If you meant to do this, you must specify 'dtype=object' when creating the ndarray\n",
            "  return array(a, dtype, copy=False, order=order)\n"
          ]
        }
      ]
    },
    {
      "cell_type": "code",
      "metadata": {
        "id": "gznXjO59N9s_",
        "colab": {
          "base_uri": "https://localhost:8080/",
          "height": 397
        },
        "outputId": "01351d22-35bc-4842-ff42-bc27b6c120d6"
      },
      "source": [
        "class_DB.show_batch(max_n=3)"
      ],
      "execution_count": null,
      "outputs": [
        {
          "output_type": "display_data",
          "data": {
            "text/html": [
              "<table border=\"1\" class=\"dataframe\">\n",
              "  <thead>\n",
              "    <tr style=\"text-align: right;\">\n",
              "      <th></th>\n",
              "      <th>text</th>\n",
              "      <th>category</th>\n",
              "    </tr>\n",
              "  </thead>\n",
              "  <tbody>\n",
              "    <tr>\n",
              "      <th>0</th>\n",
              "      <td>xxbos i booked a xxunk rental car for $ xxunk and i had my colleague rent the car on the 1st day because i was n't flying into xxup lv until the day after . xxmaj there was a little problem because my colleague is only 24 years old , and he does n't meet the 25 + rule . xxmaj so , for everyday , we have to pay an extra $ 14 because of that , which i totally understand . xxup but , now all of a sudden , the $ xxunk turned into almost $ xxunk ! \\n\\n xxmaj so at this time , my coworker is already in xxup lv at xxmaj fox , and xxmaj i 'm still in xxup la . xxmaj he has no mode of xxunk to the hotel and xxup ces xxmaj xxunk trade show , so xxmaj i 'm</td>\n",
              "      <td>1</td>\n",
              "    </tr>\n",
              "    <tr>\n",
              "      <th>1</th>\n",
              "      <td>xxbos xxmaj take any lounge / club but make it during the daytime + outside at a nice pool + there you have xxmaj tao xxmaj beach . xxmaj and , of course , true to any clubbing - like experience , your xxunk of how good your time was is xxunk on \\n▁ xxup a ) how hot / fun / young the crowd is that day \\n▁ + \\n▁ xxup b ) how much you drink \\n xxmaj our group of all girls came on a xxmaj sunday early afternoon + pretty much had a good time considering the crowd was young + good - looking + we each had at least a few drinks in our system . xxmaj if you 're looking for a place to just lay out + relax , xxmaj tao xxmaj beach is n't for you . xxmaj you can go to</td>\n",
              "      <td>4</td>\n",
              "    </tr>\n",
              "    <tr>\n",
              "      <th>2</th>\n",
              "      <td>xxbos 7 / 4 / 12 \\n\\n xxmaj i 'd visited a few years ago , but it was too busy , and i did n't have time to wait 30 to 45 minutes to be seated , so i left . xxmaj i 've had xxup xxunk xxunk to try since . xxmaj when i heard word that xxup xxunk was offering a xxmaj fourth of xxmaj july special ( buy one entree , get the second for $ 4 ) , i thought it was time to see what all the xxunk was about . \\n\\n xxmaj two weeks beforehand , i made plans with a cousin to have lunch here on the 4th . xxmaj what a surprise to find out that xxup xxunk was serving brunch , as well , and we breakfast lovers were thrilled to check out the breakfast items . xxmaj while our</td>\n",
              "      <td>3</td>\n",
              "    </tr>\n",
              "  </tbody>\n",
              "</table>"
            ],
            "text/plain": [
              "<IPython.core.display.HTML object>"
            ]
          },
          "metadata": {}
        }
      ]
    },
    {
      "cell_type": "markdown",
      "metadata": {
        "id": "uoi0heDUxBOw"
      },
      "source": [
        "On this step I've ran out off the GPU usage limit on Colab. I've tried to use 50k data sample. But even 50k was too much for training (about 1 hour per epoch) while the accuracy was total disaster - soething near 0.28 - 0.29.  So I've retrained everything on much smaller part, just to showm how this approach has to be performed.\n"
      ]
    },
    {
      "cell_type": "code",
      "metadata": {
        "id": "nMimtwImFUxA",
        "colab": {
          "base_uri": "https://localhost:8080/",
          "height": 111
        },
        "outputId": "32b41dc7-2e9f-45f4-c640-b94c75b8324e"
      },
      "source": [
        "model = text_classifier_learner(\n",
        "    class_DB, AWD_LSTM, drop_mult=0.5, \n",
        "    metrics=accuracy).to_fp16()\n",
        "model.fit_one_cycle(2, 1e-3)"
      ],
      "execution_count": null,
      "outputs": [
        {
          "output_type": "display_data",
          "data": {
            "text/html": [
              "<table border=\"1\" class=\"dataframe\">\n",
              "  <thead>\n",
              "    <tr style=\"text-align: left;\">\n",
              "      <th>epoch</th>\n",
              "      <th>train_loss</th>\n",
              "      <th>valid_loss</th>\n",
              "      <th>accuracy</th>\n",
              "      <th>time</th>\n",
              "    </tr>\n",
              "  </thead>\n",
              "  <tbody>\n",
              "    <tr>\n",
              "      <td>0</td>\n",
              "      <td>1.293016</td>\n",
              "      <td>1.164284</td>\n",
              "      <td>0.493300</td>\n",
              "      <td>08:14</td>\n",
              "    </tr>\n",
              "    <tr>\n",
              "      <td>1</td>\n",
              "      <td>1.238114</td>\n",
              "      <td>1.139581</td>\n",
              "      <td>0.505300</td>\n",
              "      <td>08:13</td>\n",
              "    </tr>\n",
              "  </tbody>\n",
              "</table>"
            ],
            "text/plain": [
              "<IPython.core.display.HTML object>"
            ]
          },
          "metadata": {}
        }
      ]
    },
    {
      "cell_type": "code",
      "metadata": {
        "id": "GGmacXD6GB3h",
        "colab": {
          "base_uri": "https://localhost:8080/",
          "height": 765
        },
        "outputId": "5caa7f71-2891-4641-c36b-4e14bb876d2b"
      },
      "source": [
        "model.show_results(max_n=5)"
      ],
      "execution_count": null,
      "outputs": [
        {
          "output_type": "display_data",
          "data": {
            "text/html": [
              ""
            ],
            "text/plain": [
              "<IPython.core.display.HTML object>"
            ]
          },
          "metadata": {}
        },
        {
          "output_type": "display_data",
          "data": {
            "text/html": [
              "<table border=\"1\" class=\"dataframe\">\n",
              "  <thead>\n",
              "    <tr style=\"text-align: right;\">\n",
              "      <th></th>\n",
              "      <th>text</th>\n",
              "      <th>category</th>\n",
              "      <th>category_</th>\n",
              "    </tr>\n",
              "  </thead>\n",
              "  <tbody>\n",
              "    <tr>\n",
              "      <th>0</th>\n",
              "      <td>xxbos xxmaj came here on their 2nd soft opening day . xxmaj there was a xxup lot of waiters / waitresses waiting at the door and greeted us the second the door opened . xxmaj two of my friend 's had already arrived by the time , my friend and i had gotten there ( oops i took the long way there apparently … xxup xxunk or rather the slow way haha ) . \\n\\n xxmaj first impressions - xxup lots of people working . xxmaj probably to get used to the environment and process . xxmaj decor . xxmaj very simple . xxmaj red and xxmaj white . xxmaj first thought i had , \" why does this remind me of xxmaj in n xxmaj out … . ? \" xxup lol anyway xxmaj design almost kept like how it was when xxmaj cafe de xxmaj xxunk existed .</td>\n",
              "      <td>3</td>\n",
              "      <td>3</td>\n",
              "    </tr>\n",
              "    <tr>\n",
              "      <th>1</th>\n",
              "      <td>xxbos xxrep 3 * xxmaj it 's a really long review , i hope it does n't xxunk you from reading it xxrep 3 * \\n\\n\\n i really wish yelp gave the option of giving 1 / 2 stars . . . \\n\\n xxmaj and so with that opening sentence , here is my review : \\n\\n a group of friends and i went to xxmaj dal xxmaj xxunk out of sheer xxunk . xxmaj it was a xxmaj saturday night and well , being xxmaj vegas , all the good restaurants were already booked . xxmaj now , i know that we could have gone to any restaurant but we were starving and that was the only place we could get . xxmaj the restaurant is at xxmaj the xxmaj palazzo and located in the lowest level of the hotel . xxmaj it was actually really hard to find</td>\n",
              "      <td>1</td>\n",
              "      <td>2</td>\n",
              "    </tr>\n",
              "    <tr>\n",
              "      <th>2</th>\n",
              "      <td>xxbos xxmaj trying to do more with less . xxmaj that sums up the xxup sls . xxmaj the whole experience feels xxunk . i was in town for 3 weeks for various xxunk events . xxmaj my girlfriend decided to visit me over xxmaj halloween weekend . xxmaj we stayed at xxmaj mandalay xxmaj bay on xxmaj friday and the xxup sls xxmaj saturday . xxmaj our experience at xxmaj mandalay was great as always but for some reason rates were insane for the night after xxmaj halloween , not the actual holiday . i was able to book a \" suite \" at the xxup sls for the cost of a king at xxmaj mandalay . xxup sls is at the xxmaj xxunk part of the strip . xxmaj casino xxunk from xxmaj las xxmaj vegas blvd . and main entrance is in the back off of xxmaj</td>\n",
              "      <td>2</td>\n",
              "      <td>3</td>\n",
              "    </tr>\n",
              "    <tr>\n",
              "      <th>3</th>\n",
              "      <td>xxbos xxmaj first off i would like to say that our experience was like night and day compared to the last time we were here . xxmaj it 's funny that i went back and read my last review and i was surprised to see that i had ordered a filet again . i guess i must be a xxunk of habit . xxmaj my tastes have not changed , but the service and quality of xxup xxunk sure has . \\n xxmaj let me start off saying that i made reservations weeks in advance . i reserved a booth like last time , and wanted this to be a special xxmaj saturday xxmaj night xxmaj mother 's xxmaj day xxmaj dinner ! xxmaj things just did not pan out that way . xxmaj as we drove up there were no more handicap parking spots available . i asked the</td>\n",
              "      <td>1</td>\n",
              "      <td>1</td>\n",
              "    </tr>\n",
              "    <tr>\n",
              "      <th>4</th>\n",
              "      <td>xxbos i do n't expect a fancy xxunk of amazing service , offerings of exotic produce or a team of personal shoppers xxunk over me when i go to the grocery store . xxmaj given that grocery shopping is already the xxunk of my life , i have really low expectations for the place where i purchase my impressive assortment of top ramen food products . \\n\\n xxmaj seriously , xxmaj i 'm not shopping for organic baby prawn xxunk and goose liver xxunk ' … i just want to get in and purchase my run of the mill poor person foods like canned beans and frozen dinners . xxmaj so when i say low expectations , i mean xxup really low expectations . \\n\\n xxmaj so it really says something about the xxmaj smith 's that i would rather saw off my own foot than shop for my failure</td>\n",
              "      <td>1</td>\n",
              "      <td>1</td>\n",
              "    </tr>\n",
              "  </tbody>\n",
              "</table>"
            ],
            "text/plain": [
              "<IPython.core.display.HTML object>"
            ]
          },
          "metadata": {}
        }
      ]
    },
    {
      "cell_type": "code",
      "metadata": {
        "id": "ZNNXsGKFGCMT",
        "colab": {
          "base_uri": "https://localhost:8080/",
          "height": 95
        },
        "outputId": "561d5c1a-1bfa-452f-f6dd-5b1e167beb32"
      },
      "source": [
        "model_freeze = learn.load_encoder('fine_tuned') \n",
        "model_freeze.freeze_to(-2)\n",
        "model_freeze.fit_one_cycle(1, slice(1e-2/(2.6**4),1e-2))"
      ],
      "execution_count": null,
      "outputs": [
        {
          "output_type": "display_data",
          "data": {
            "text/html": [
              "\n",
              "    <div>\n",
              "        <style>\n",
              "            /* Turns off some styling */\n",
              "            progress {\n",
              "                /* gets rid of default border in Firefox and Opera. */\n",
              "                border: none;\n",
              "                /* Needs to be in here for Safari polyfill so background images work as expected. */\n",
              "                background-size: auto;\n",
              "            }\n",
              "            .progress-bar-interrupted, .progress-bar-interrupted::-webkit-progress-bar {\n",
              "                background: #F44336;\n",
              "            }\n",
              "        </style>\n",
              "      <progress value='0' class='' max='1' style='width:300px; height:20px; vertical-align: middle;'></progress>\n",
              "      0.00% [0/1 00:00<00:00]\n",
              "    </div>\n",
              "    \n",
              "<table border=\"1\" class=\"dataframe\">\n",
              "  <thead>\n",
              "    <tr style=\"text-align: left;\">\n",
              "      <th>epoch</th>\n",
              "      <th>train_loss</th>\n",
              "      <th>valid_loss</th>\n",
              "      <th>accuracy</th>\n",
              "      <th>time</th>\n",
              "    </tr>\n",
              "  </thead>\n",
              "  <tbody>\n",
              "  </tbody>\n",
              "</table><p>\n",
              "\n",
              "    <div>\n",
              "        <style>\n",
              "            /* Turns off some styling */\n",
              "            progress {\n",
              "                /* gets rid of default border in Firefox and Opera. */\n",
              "                border: none;\n",
              "                /* Needs to be in here for Safari polyfill so background images work as expected. */\n",
              "                background-size: auto;\n",
              "            }\n",
              "            .progress-bar-interrupted, .progress-bar-interrupted::-webkit-progress-bar {\n",
              "                background: #F44336;\n",
              "            }\n",
              "        </style>\n",
              "      <progress value='263' class='' max='1250' style='width:300px; height:20px; vertical-align: middle;'></progress>\n",
              "      21.04% [263/1250 01:52<07:00 1.2075]\n",
              "    </div>\n",
              "    "
            ],
            "text/plain": [
              "<IPython.core.display.HTML object>"
            ]
          },
          "metadata": {}
        }
      ]
    },
    {
      "cell_type": "markdown",
      "metadata": {
        "id": "DsToVMBCiKUA"
      },
      "source": [
        "So, once again I ran out of Colab GPU usage time. I don't have enough time to re-train all of these staff, so I won't have freezing/unfreezing part."
      ]
    },
    {
      "cell_type": "code",
      "metadata": {
        "colab": {
          "base_uri": "https://localhost:8080/",
          "height": 180
        },
        "id": "sqxDUhGYVZ8m",
        "outputId": "54f41de8-c1f2-49af-d553-949b2c4cacfb"
      },
      "source": [
        "model_freeze.unfreeze()\n",
        "model_freeze.fit_one_cycle(2, slice(1e-3/(2.6**4),1e-3))"
      ],
      "execution_count": null,
      "outputs": [
        {
          "output_type": "error",
          "ename": "NameError",
          "evalue": "ignored",
          "traceback": [
            "\u001b[0;31m---------------------------------------------------------------------------\u001b[0m",
            "\u001b[0;31mNameError\u001b[0m                                 Traceback (most recent call last)",
            "\u001b[0;32m<ipython-input-25-8d838fceaa88>\u001b[0m in \u001b[0;36m<module>\u001b[0;34m()\u001b[0m\n\u001b[0;32m----> 1\u001b[0;31m \u001b[0mmodel_freeze\u001b[0m\u001b[0;34m.\u001b[0m\u001b[0munfreeze\u001b[0m\u001b[0;34m(\u001b[0m\u001b[0;34m)\u001b[0m\u001b[0;34m\u001b[0m\u001b[0;34m\u001b[0m\u001b[0m\n\u001b[0m\u001b[1;32m      2\u001b[0m \u001b[0mmodel_freeze\u001b[0m\u001b[0;34m.\u001b[0m\u001b[0mfit_one_cycle\u001b[0m\u001b[0;34m(\u001b[0m\u001b[0;36m2\u001b[0m\u001b[0;34m,\u001b[0m \u001b[0mslice\u001b[0m\u001b[0;34m(\u001b[0m\u001b[0;36m1e-3\u001b[0m\u001b[0;34m/\u001b[0m\u001b[0;34m(\u001b[0m\u001b[0;36m2.6\u001b[0m\u001b[0;34m**\u001b[0m\u001b[0;36m4\u001b[0m\u001b[0;34m)\u001b[0m\u001b[0;34m,\u001b[0m\u001b[0;36m1e-3\u001b[0m\u001b[0;34m)\u001b[0m\u001b[0;34m)\u001b[0m\u001b[0;34m\u001b[0m\u001b[0;34m\u001b[0m\u001b[0m\n",
            "\u001b[0;31mNameError\u001b[0m: name 'model_freeze' is not defined"
          ]
        }
      ]
    },
    {
      "cell_type": "code",
      "metadata": {
        "colab": {
          "base_uri": "https://localhost:8080/",
          "height": 163
        },
        "id": "8prydgneWd3U",
        "outputId": "0e8919d6-bd67-40ea-cf01-74fe4266739c"
      },
      "source": [
        "model_freeze.show_results(max_n=5)"
      ],
      "execution_count": null,
      "outputs": [
        {
          "output_type": "error",
          "ename": "NameError",
          "evalue": "ignored",
          "traceback": [
            "\u001b[0;31m---------------------------------------------------------------------------\u001b[0m",
            "\u001b[0;31mNameError\u001b[0m                                 Traceback (most recent call last)",
            "\u001b[0;32m<ipython-input-27-8ac20ec16885>\u001b[0m in \u001b[0;36m<module>\u001b[0;34m()\u001b[0m\n\u001b[0;32m----> 1\u001b[0;31m \u001b[0mmodel_freeze\u001b[0m\u001b[0;34m.\u001b[0m\u001b[0mshow_results\u001b[0m\u001b[0;34m(\u001b[0m\u001b[0mmax_n\u001b[0m\u001b[0;34m=\u001b[0m\u001b[0;36m5\u001b[0m\u001b[0;34m)\u001b[0m\u001b[0;34m\u001b[0m\u001b[0;34m\u001b[0m\u001b[0m\n\u001b[0m",
            "\u001b[0;31mNameError\u001b[0m: name 'model_freeze' is not defined"
          ]
        }
      ]
    },
    {
      "cell_type": "code",
      "metadata": {
        "id": "fMyFM83jg0D-"
      },
      "source": [
        ""
      ],
      "execution_count": null,
      "outputs": []
    }
  ]
}